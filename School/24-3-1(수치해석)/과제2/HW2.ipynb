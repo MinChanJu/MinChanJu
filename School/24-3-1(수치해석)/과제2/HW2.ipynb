{
 "cells": [
  {
   "cell_type": "markdown",
   "metadata": {},
   "source": [
    "# 과제2"
   ]
  },
  {
   "cell_type": "code",
   "execution_count": 1,
   "metadata": {},
   "outputs": [],
   "source": [
    "import numpy as np\n",
    "import matplotlib\n",
    "import matplotlib.pyplot as plt\n",
    "matplotlib.rcParams['figure.figsize'] = (12, 8)"
   ]
  },
  {
   "cell_type": "markdown",
   "metadata": {},
   "source": [
    "## 1 - a"
   ]
  },
  {
   "cell_type": "code",
   "execution_count": 46,
   "metadata": {},
   "outputs": [],
   "source": [
    "def solve_lu(A,b):\n",
    "    N = len(A)\n",
    "    x = [0 for j in range(N)]\n",
    "    for k in range(N-1):\n",
    "        for i in range(k+1,N):\n",
    "            b[i] -= A[i][k] * b[k]\n",
    "    \n",
    "    x[-1] = b[-1] / A[-1][-1]\n",
    "    for i in range(N-2,-1,-1):\n",
    "        s = b[i]\n",
    "        for j in range(i+1,N):\n",
    "            s -= A[i][j] * x[j]\n",
    "        x[i] = s / A[i][i]\n",
    "    return x"
   ]
  },
  {
   "cell_type": "code",
   "execution_count": 47,
   "metadata": {},
   "outputs": [
    {
     "name": "stdout",
     "output_type": "stream",
     "text": [
      "1 / 2\t\tError : 0.046774691386031186\t\t\n",
      "1 / 4\t\tError : 0.016185379865051974\t\talpha : 2.8899347297389477\n",
      "1 / 8\t\tError : 0.0046580728943892424\t\talpha : 3.474694413766612\n",
      "1 / 16\t\tError : 0.0012446027388079983\t\talpha : 3.742618225997518\n",
      "1 / 32\t\tError : 0.0003214026717528462\t\talpha : 3.872409435865172\n",
      "1 / 64\t\tError : 8.164773912433532e-05\t\talpha : 3.9364552552203045\n",
      "1 / 128\t\tError : 2.0575057219751614e-05\t\talpha : 3.9682873419158824\n",
      "1 / 256\t\tError : 5.164216871911265e-06\t\talpha : 3.9841582431716955\n",
      "1 / 512\t\tError : 1.2936146953634875e-06\t\talpha : 3.9920827201643627\n"
     ]
    }
   ],
   "source": [
    "for i in range(1,10):\n",
    "    N = 2**i\n",
    "    h = 1 / N\n",
    "    A = [[0 for i in range(N+1)] for j in range(N+1)]\n",
    "    A[0][0], A[-1][-1], A[1][0], A[-2][-1] = 1, 1, 1, 1\n",
    "    for i in range(1,N):\n",
    "        for j in range(1,N):\n",
    "            if i == j: A[i][j] = 4\n",
    "            if i == j-1: A[i][j] = 1\n",
    "            if i-1 == j: A[i][j] = 1\n",
    "\n",
    "    f = lambda x: np.e ** x\n",
    "    B = [0 for i in range(N+1)]\n",
    "    for i in range(1,N):\n",
    "        B[i] = 6*(f(h*(i+1)) - 2*f(h*i) + f(h*(i-1)))/h\n",
    "\n",
    "    M = solve_lu(A,B)\n",
    "    a = [0 for i in range(N)]\n",
    "    b = [0 for i in range(N)]\n",
    "\n",
    "    for i in range(N):\n",
    "        a[i] = (M[i]-M[i+1])*h/6 + (f(h*(i+1))-f(h*i))/h\n",
    "\n",
    "    for i in range(N):\n",
    "        b[i] = f(h*(i+1)) - M[i+1]*h*h/6 - a[i]*h\n",
    "\n",
    "    S = lambda j,x: -M[j]*((x-h*(j+1))**3)/(6*h) + M[j+1]*((x-h*j)**3)/(6*h) + a[j]*(x-h*j) + b[j]\n",
    "\n",
    "    error = [abs(f(i*h-h/2) - S(i-1,i*h-h/2)) for i in range(1,N+1)]\n",
    "    err = max(error)\n",
    "    print(\"1 / %d\\t\\tError :\"%(N),err, end = \"\\t\\t\")\n",
    "    if N > 2: print(\"alpha :\", last/err)\n",
    "    else: print()\n",
    "    last = err"
   ]
  },
  {
   "cell_type": "markdown",
   "metadata": {},
   "source": [
    "## 1 - b"
   ]
  },
  {
   "cell_type": "code",
   "execution_count": 48,
   "metadata": {},
   "outputs": [
    {
     "data": {
      "image/png": "[encoded data removed]",
      "text/plain": [
       "<Figure size 864x576 with 1 Axes>"
      ]
     },
     "metadata": {
      "needs_background": "light"
     },
     "output_type": "display_data"
    }
   ],
   "source": [
    "N = 4\n",
    "h = 1 / N\n",
    "A = [[0 for i in range(N+1)] for j in range(N+1)]\n",
    "A[0][0], A[-1][-1], A[1][0], A[-2][-1] = 1, 1, 1, 1\n",
    "for i in range(1,N):\n",
    "    for j in range(1,N):\n",
    "        if i == j: A[i][j] = 4\n",
    "        if i == j-1: A[i][j] = 1\n",
    "        if i-1 == j: A[i][j] = 1\n",
    "\n",
    "f = lambda x: np.e ** x\n",
    "B = [0 for i in range(N+1)]\n",
    "for i in range(1,N):\n",
    "    B[i] = 6*(f(h*(i+1)) - 2*f(h*i) + f(h*(i-1)))/h\n",
    "\n",
    "M = solve_lu(A,B)\n",
    "a = [0 for i in range(N)]\n",
    "b = [0 for i in range(N)]\n",
    "\n",
    "for i in range(N):\n",
    "    a[i] = (M[i]-M[i+1])*h/6 + (f(h*(i+1))-f(h*i))/h\n",
    "\n",
    "for i in range(N):\n",
    "    b[i] = f(h*(i+1)) - M[i+1]*h*h/6 - a[i]*h\n",
    "\n",
    "S = lambda j,x: -M[j]*((x-h*(j+1))**3)/(6*h) + M[j+1]*((x-h*j)**3)/(6*h) + a[j]*(x-h*j) + b[j]\n",
    "\n",
    "x = [h*i for i in range(N+1)]\n",
    "y = [f(x[i]) for i in range(N+1)]\n",
    "s = [S(i,x[i]) for i in range(N)] + [S(N-1,x[-1])]\n",
    "\n",
    "plt.plot(x, y, color='blue', label='f(x) (solid)')\n",
    "plt.scatter(x, s, color='red', label='S(x) (dotted)')\n",
    "\n",
    "plt.xlabel('x')\n",
    "plt.ylabel('value')\n",
    "plt.title('Visualization')\n",
    "plt.legend()\n",
    "plt.grid()\n",
    "plt.show()"
   ]
  },
  {
   "cell_type": "markdown",
   "metadata": {},
   "source": [
    "## 2 - three point formula"
   ]
  },
  {
   "cell_type": "code",
   "execution_count": 64,
   "metadata": {},
   "outputs": [
    {
     "name": "stdout",
     "output_type": "stream",
     "text": [
      "1 / 2\t\tApproximate : 1.256529710603980\t     f'(1) : 1.3817732906760363\t     Error : 0.12524358007205616\n",
      "1 / 4\t\tApproximate : 1.350003408353964\t     f'(1) : 1.3817732906760363\t     Error : 0.031769882322071785\n",
      "1 / 8\t\tApproximate : 1.373801915619834\t     f'(1) : 1.3817732906760363\t     Error : 0.007971375056202712\n",
      "1 / 16\t\tApproximate : 1.379778636964907\t     f'(1) : 1.3817732906760363\t     Error : 0.0019946537111288354\n",
      "1 / 32\t\tApproximate : 1.381274514073107\t     f'(1) : 1.3817732906760363\t     Error : 0.0004987766029291851\n",
      "1 / 64\t\tApproximate : 1.381648589451022\t     f'(1) : 1.3817732906760363\t     Error : 0.0001247012250147339\n",
      "1 / 128\t\tApproximate : 1.381742114927633\t     f'(1) : 1.3817732906760363\t     Error : 3.1175748403500236e-05\n",
      "1 / 256\t\tApproximate : 1.381765496711296\t     f'(1) : 1.3817732906760363\t     Error : 7.79396474048788e-06\n",
      "1 / 512\t\tApproximate : 1.381771342183129\t     f'(1) : 1.3817732906760363\t     Error : 1.948492907688504e-06\n"
     ]
    }
   ],
   "source": [
    "f = lambda x: x*np.sin(x)\n",
    "f1 = lambda x: np.sin(x) + x*np.cos(x)\n",
    "x0 = 1\n",
    "real = f1(x0)\n",
    "for i in range(1,10):\n",
    "    N = 2**i\n",
    "    h = 1 / N\n",
    "    app = (f(x0+h)-f(x0-h))/(2*h)\n",
    "    err = abs(real - app)\n",
    "    print(\"1 / %d\"%(N), end=\"\\t\\t\")\n",
    "    print(\"Approximate :\", \"%.15f\"%app, end=\"\\t     \")\n",
    "    print(\"f'(1) :\", real, end = \"\\t     \")\n",
    "    print(\"Error :\", err)"
   ]
  },
  {
   "cell_type": "markdown",
   "metadata": {},
   "source": [
    "## 2 - five point formula"
   ]
  },
  {
   "cell_type": "code",
   "execution_count": 65,
   "metadata": {},
   "outputs": [
    {
     "name": "stdout",
     "output_type": "stream",
     "text": [
      "1 / 2\t\tApproximate : 1.372273805196746\t     f'(1) : 1.3817732906760363\t     Error : 0.009499485479290026\n",
      "1 / 4\t\tApproximate : 1.381161307603959\t     f'(1) : 1.3817732906760363\t     Error : 0.0006119830720767716\n",
      "1 / 8\t\tApproximate : 1.381734751375123\t     f'(1) : 1.3817732906760363\t     Error : 3.853930091324287e-05\n",
      "1 / 16\t\tApproximate : 1.381770877413266\t     f'(1) : 1.3817732906760363\t     Error : 2.4132627705064635e-06\n",
      "1 / 32\t\tApproximate : 1.381773139775841\t     f'(1) : 1.3817732906760363\t     Error : 1.5090019545027644e-07\n",
      "1 / 64\t\tApproximate : 1.381773281243659\t     f'(1) : 1.3817732906760363\t     Error : 9.432377767737421e-09\n",
      "1 / 128\t\tApproximate : 1.381773290086499\t     f'(1) : 1.3817732906760363\t     Error : 5.89537751949365e-10\n",
      "1 / 256\t\tApproximate : 1.381773290639184\t     f'(1) : 1.3817732906760363\t     Error : 3.6852743079407446e-11\n",
      "1 / 512\t\tApproximate : 1.381773290673749\t     f'(1) : 1.3817732906760363\t     Error : 2.2872814753327475e-12\n"
     ]
    }
   ],
   "source": [
    "f = lambda x: x*np.sin(x)\n",
    "f1 = lambda x: np.sin(x) + x*np.cos(x)\n",
    "x0 = 1\n",
    "real = f1(x0)\n",
    "for i in range(1,10):\n",
    "    N = 2**i\n",
    "    h = 1 / N\n",
    "    app = (f(x0-2*h) - 8*f(x0-h) + 8*f(x0+h) - f(x0+2*h))/(12*h)\n",
    "    err = abs(real - app)\n",
    "    print(\"1 / %d\"%(N), end=\"\\t\\t\")\n",
    "    print(\"Approximate :\", \"%.15f\"%app, end=\"\\t     \")\n",
    "    print(\"f'(1) :\", real, end = \"\\t     \")\n",
    "    print(\"Error :\", err)"
   ]
  },
  {
   "cell_type": "markdown",
   "metadata": {},
   "source": [
    "## 3 - composite trapezoidal rule"
   ]
  },
  {
   "cell_type": "code",
   "execution_count": 71,
   "metadata": {},
   "outputs": [
    {
     "name": "stdout",
     "output_type": "stream",
     "text": [
      "1 / 2\t\tApproximate : 1.091750774789793\t     Integral : 1\tError : 0.09175077478979343\n",
      "1 / 4\t\tApproximate : 1.023064479052757\t     Integral : 1\tError : 0.023064479052757214\n",
      "1 / 8\t\tApproximate : 1.005774107367820\t     Integral : 1\tError : 0.005774107367819692\n",
      "1 / 16\t\tApproximate : 1.001444027067708\t     Integral : 1\tError : 0.0014440270677076317\n",
      "1 / 32\t\tApproximate : 1.000361038046700\t     Integral : 1\tError : 0.0003610380466998464\n",
      "1 / 64\t\tApproximate : 1.000090261466906\t     Integral : 1\tError : 9.026146690560566e-05\n",
      "1 / 128\t\tApproximate : 1.000022565488932\t     Integral : 1\tError : 2.256548893231347e-05\n",
      "1 / 256\t\tApproximate : 1.000005641379871\t     Integral : 1\tError : 5.641379871024199e-06\n",
      "1 / 512\t\tApproximate : 1.000001410345445\t     Integral : 1\tError : 1.4103454450964392e-06\n"
     ]
    }
   ],
   "source": [
    "f = lambda x: x*(np.e**x)\n",
    "real = 1\n",
    "for i in range(1,10):\n",
    "    N = 2**i\n",
    "    h = 1 / N\n",
    "    x = [h*i for i in range(N+1)]\n",
    "    app = 0\n",
    "    for j in range(N):\n",
    "        app += h*(f(x[j])+f(x[j+1]))/2\n",
    "    err = abs(real - app)\n",
    "    print(\"1 / %d\"%(N), end=\"\\t\\t\")\n",
    "    print(\"Approximate :\", \"%.15f\"%app, end=\"\\t     \")\n",
    "    print(\"Integral :\", real, end = \"\\t\")\n",
    "    print(\"Error :\", err)"
   ]
  },
  {
   "cell_type": "markdown",
   "metadata": {},
   "source": [
    "## 3 – composite Simpsom rule"
   ]
  },
  {
   "cell_type": "code",
   "execution_count": 72,
   "metadata": {},
   "outputs": [
    {
     "name": "stdout",
     "output_type": "stream",
     "text": [
      "1 / 2\t\tApproximate : 1.002620728309884\t     Integral : 1\tError : 0.00262072830988358\n",
      "1 / 4\t\tApproximate : 1.000169047140412\t     Integral : 1\tError : 0.00016904714041166002\n",
      "1 / 8\t\tApproximate : 1.000010650139507\t     Integral : 1\tError : 1.0650139506962475e-05\n",
      "1 / 16\t\tApproximate : 1.000000666967670\t     Integral : 1\tError : 6.669676699821991e-07\n",
      "1 / 32\t\tApproximate : 1.000000041706364\t     Integral : 1\tError : 4.170636414002615e-08\n",
      "1 / 64\t\tApproximate : 1.000000002606974\t     Integral : 1\tError : 2.60697419207645e-09\n",
      "1 / 128\t\tApproximate : 1.000000000162941\t     Integral : 1\tError : 1.6294077198608647e-10\n",
      "1 / 256\t\tApproximate : 1.000000000010184\t     Integral : 1\tError : 1.0183631715676711e-11\n",
      "1 / 512\t\tApproximate : 1.000000000000636\t     Integral : 1\tError : 6.359357485052897e-13\n"
     ]
    }
   ],
   "source": [
    "f = lambda x: x*(np.e**x)\n",
    "real = 1\n",
    "for i in range(1,10):\n",
    "    N = 2**i\n",
    "    h = 1 / N\n",
    "    x = [h*i for i in range(N+1)]\n",
    "    app = 0\n",
    "    for j in range(N//2):\n",
    "        app += h*(f(x[2*j]) + 4*f(x[2*j+1]) + f(x[2*j+2]))/3\n",
    "    err = abs(real - app)\n",
    "    print(\"1 / %d\"%(N), end=\"\\t\\t\")\n",
    "    print(\"Approximate :\", \"%.15f\"%app, end=\"\\t     \")\n",
    "    print(\"Integral :\", real, end = \"\\t\")\n",
    "    print(\"Error :\", err)"
   ]
  },
  {
   "cell_type": "markdown",
   "metadata": {},
   "source": [
    "## 3 - composite 2-point Gaussian quadrature"
   ]
  },
  {
   "cell_type": "code",
   "execution_count": 77,
   "metadata": {},
   "outputs": [
    {
     "name": "stdout",
     "output_type": "stream",
     "text": [
      "1 / 2\t\tApproximate : 0.998257837243520\t     Integral : 1\tError : 0.0017421627564796482\n",
      "1 / 4\t\tApproximate : 0.998257837243520\t     Integral : 1\tError : 0.0017421627564796482\n",
      "1 / 8\t\tApproximate : 0.998257837243520\t     Integral : 1\tError : 0.0017421627564796482\n",
      "1 / 16\t\tApproximate : 0.998257837243520\t     Integral : 1\tError : 0.0017421627564796482\n",
      "1 / 32\t\tApproximate : 0.998257837243520\t     Integral : 1\tError : 0.0017421627564796482\n",
      "1 / 64\t\tApproximate : 0.998257837243520\t     Integral : 1\tError : 0.0017421627564796482\n",
      "1 / 128\t\tApproximate : 0.998257837243520\t     Integral : 1\tError : 0.0017421627564796482\n",
      "1 / 256\t\tApproximate : 0.998257837243520\t     Integral : 1\tError : 0.0017421627564796482\n",
      "1 / 512\t\tApproximate : 0.998257837243520\t     Integral : 1\tError : 0.0017421627564796482\n"
     ]
    }
   ],
   "source": [
    "f = lambda x: x*(np.e**x)\n",
    "real = 1\n",
    "for i in range(1,10):\n",
    "    N = 2**i\n",
    "    h = 1 / N\n",
    "    xbar = 0.5\n",
    "    H = 1\n",
    "    app = H*f(xbar - H/(2*(3**(0.5))))/2 + H*f(xbar + H/(2*(3**(0.5))))/2\n",
    "    err = abs(real - app)\n",
    "    print(\"1 / %d\"%(N), end=\"\\t\\t\")\n",
    "    print(\"Approximate :\", \"%.15f\"%app, end=\"\\t     \")\n",
    "    print(\"Integral :\", real, end = \"\\t\")\n",
    "    print(\"Error :\", err)"
   ]
  },
  {
   "cell_type": "code",
   "execution_count": null,
   "metadata": {},
   "outputs": [],
   "source": []
  }
 ],
 "metadata": {
  "kernelspec": {
   "display_name": "base",
   "language": "python",
   "name": "python3"
  },
  "language_info": {
   "codemirror_mode": {
    "name": "ipython",
    "version": 3
   },
   "file_extension": ".py",
   "mimetype": "text/x-python",
   "name": "python",
   "nbconvert_exporter": "python",
   "pygments_lexer": "ipython3",
   "version": "3.8.8"
  }
 },
 "nbformat": 4,
 "nbformat_minor": 2
}
