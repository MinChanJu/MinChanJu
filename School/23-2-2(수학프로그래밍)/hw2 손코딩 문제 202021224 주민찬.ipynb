{
 "cells": [
  {
   "cell_type": "markdown",
   "id": "78493a7d",
   "metadata": {},
   "source": [
    "# 손코딩 문제\n",
    "## 202021224 수학과 주민찬"
   ]
  },
  {
   "cell_type": "markdown",
   "id": "32ee4754",
   "metadata": {},
   "source": [
    "## 1) 학점 계산 문제\n",
    "-학점과 과목평점을 리스트 안에 리스트 형태로 받아 총 학점평점을 출력하는 함수\n",
    "<br>\n",
    "<br> 조건\n",
    "<br>-함수명은 score(A)으로 한다.\n",
    "<br>-학점은 A+,A0,B+,B0,C+,C0,D+,D0,F만 있다.\n",
    "<br>-출력은 print함수를 이용한다.\n",
    "<br>-소수점 세번째 자리에서 반올림하여 출력한다.\n",
    "\n",
    "-예1)\n",
    "<br>-입력: [ [3,'A0'], [2,'A+'], [3,'F'], [3,'B0'], [1,'C+'], [3,'D0']]\n",
    "<br>-출력: 2.37\n",
    "\n",
    "-예2)\n",
    "<br>-입력: [ [3,'A+'], [2,'A+'], [3,'A+'], [3,'A+'], [1,'A+'], [3,'A+']]\n",
    "<br>-출력: 4.50\n",
    "\n",
    "-예3)\n",
    "<br>-입력: [ [3,'B+'], [2,'B+'], [3,'B+'], [3,'B+'], [1,'B+'], [3,'B+']]\n",
    "<br>-출력: 3.50"
   ]
  },
  {
   "cell_type": "code",
   "execution_count": 1,
   "id": "0bf8a742",
   "metadata": {},
   "outputs": [],
   "source": [
    "def score(A):\n",
    "    hakjum={'A+':4.5, 'A0':4.0, 'B+':3.5, 'B0':3.0, 'C+':2.5, 'C0':2.0, 'D+':1.5, 'D0':1.0, 'F':0}   #각 학점의 점수의 딕셔너리\n",
    "    sum=0 #총 수강학점\n",
    "    hak=0 #총 학점점수\n",
    "    for i in A:\n",
    "        sum+=i[0]\n",
    "        hak+=i[0]*hakjum[i[1]]\n",
    "    print(\"%0.2f\"%(hak/sum))"
   ]
  },
  {
   "cell_type": "code",
   "execution_count": 2,
   "id": "d5ef3609",
   "metadata": {},
   "outputs": [
    {
     "name": "stdout",
     "output_type": "stream",
     "text": [
      "2.37\n"
     ]
    }
   ],
   "source": [
    "A=[ [3,'A0'], [2,'A+'], [3,'F'], [3,'B0'], [1,'C+'], [3,'D0']]\n",
    "score(A)"
   ]
  },
  {
   "cell_type": "code",
   "execution_count": 3,
   "id": "1d96966b",
   "metadata": {},
   "outputs": [
    {
     "name": "stdout",
     "output_type": "stream",
     "text": [
      "4.50\n"
     ]
    }
   ],
   "source": [
    "A=[ [3,'A+'], [2,'A+'], [3,'A+'], [3,'A+'], [1,'A+'], [3,'A+']]\n",
    "score(A)"
   ]
  },
  {
   "cell_type": "code",
   "execution_count": 4,
   "id": "7a6a2423",
   "metadata": {},
   "outputs": [
    {
     "name": "stdout",
     "output_type": "stream",
     "text": [
      "3.50\n"
     ]
    }
   ],
   "source": [
    "A=[ [3,'B+'], [2,'B+'], [3,'B+'], [3,'B+'], [1,'B+'], [3,'B+']]\n",
    "score(A)"
   ]
  },
  {
   "cell_type": "markdown",
   "id": "3470a742",
   "metadata": {},
   "source": [
    "## 2) 행렬 symmetric 확인\n",
    "-행렬을 리스트 형태로 받아 그 행렬이 symmetric한지 확인하고 맞다면 1 아니면 0을 리턴하는 함수\n",
    "\n",
    "조건\n",
    "<br>-함수명은 symmetric(A)으로 한다.\n",
    "<br>-행렬은 [[$a_{11}$,$a_{12}$,$a_{13}$],[$a_{21}$,$a_{22}$,$a_{23}$],[$a_{31}$,$a_{32}$,$a_{33}$]]으로 받아온다.\n",
    "<br>-행렬은 n x n 행렬이다\n",
    "<br>-print함수는 사용하지 않고 리턴 한다.\n",
    "\n",
    "-예1)\n",
    "<br>-입력: [[1,3],[3,4]]\n",
    "<br>-출력: 1\n",
    "\n",
    "-예2)\n",
    "<br>-입력: [[2,3,2],[3,6,7],[5,7,9]]\n",
    "<br>-출력: 0\n",
    "\n",
    "-예3)\n",
    "<br>-입력: [[2,3,5,6,4],[3,6,7,9,8],[5,7,9,0,6],[6,9,0,2,5],[4,8,6,5,1]]\n",
    "<br>-출력: 1\n",
    "\n",
    "-예3)\n",
    "<br>-입력: [[2,3,5,6,4],[3,6,7,9,8],[5,7,9,0,6],[5,9,0,2,5],[4,8,6,5,1]]\n",
    "<br>-출력: 0"
   ]
  },
  {
   "cell_type": "code",
   "execution_count": 5,
   "id": "f99292c9",
   "metadata": {},
   "outputs": [],
   "source": [
    "def symmetric(A):\n",
    "    for i in range(len(A)):\n",
    "        for j in range(i):\n",
    "            if A[i][j]!=A[j][i]:   #행렬의 ij원소와 ji원소가 다르면 symmetric이 아님\n",
    "                return 0\n",
    "    return 1"
   ]
  },
  {
   "cell_type": "code",
   "execution_count": 6,
   "id": "f09329f7",
   "metadata": {},
   "outputs": [
    {
     "data": {
      "text/plain": [
       "1"
      ]
     },
     "execution_count": 6,
     "metadata": {},
     "output_type": "execute_result"
    }
   ],
   "source": [
    "A=[[1,3],[3,4]]\n",
    "symmetric(A)"
   ]
  },
  {
   "cell_type": "code",
   "execution_count": 7,
   "id": "3729e3b0",
   "metadata": {},
   "outputs": [
    {
     "data": {
      "text/plain": [
       "0"
      ]
     },
     "execution_count": 7,
     "metadata": {},
     "output_type": "execute_result"
    }
   ],
   "source": [
    "A=[[2,3,2],[3,6,7],[5,7,9]]\n",
    "symmetric(A)"
   ]
  },
  {
   "cell_type": "code",
   "execution_count": 8,
   "id": "1386015a",
   "metadata": {},
   "outputs": [
    {
     "data": {
      "text/plain": [
       "1"
      ]
     },
     "execution_count": 8,
     "metadata": {},
     "output_type": "execute_result"
    }
   ],
   "source": [
    "A=[[2,3,5,6,4],[3,6,7,9,8],[5,7,9,0,6],[6,9,0,2,5],[4,8,6,5,1]]\n",
    "symmetric(A)"
   ]
  },
  {
   "cell_type": "code",
   "execution_count": 9,
   "id": "31c0c309",
   "metadata": {},
   "outputs": [
    {
     "data": {
      "text/plain": [
       "0"
      ]
     },
     "execution_count": 9,
     "metadata": {},
     "output_type": "execute_result"
    }
   ],
   "source": [
    "A=[[2,3,5,6,4],[3,6,7,9,8],[5,7,9,0,6],[5,9,0,2,5],[4,8,6,5,1]]\n",
    "symmetric(A)"
   ]
  },
  {
   "cell_type": "markdown",
   "id": "53a7d71a",
   "metadata": {},
   "source": [
    "## 3) 최대 점수 얻기\n",
    "-리스트 형태로 각 위치의 점수가 쓰여 있고 어떤 사람이 그 점수의 위치를 밟으면 그 점수를 얻는다. 점수를 얻는 방법은 다음과 같다.\n",
    "1. 점수는 다음 점수를 얻거나 다다음 점수를 얻을 수 있다.\n",
    "2. 점수는 연속해서 3번 얻을 수 없다. 즉, 2번 점수를 얻으면 그 다음 점수는 한번 건너뛰어야 한다.\n",
    "3. 마지막 점수는 꼭 얻어야 한다.\n",
    "\n",
    "조건\n",
    "<br>-함수명은 maxscore(A)로 한다.\n",
    "<br>-리스트는 [$s_1$,$s_2$,$s_3$,$s_4$,$s_5$,$s_6$]\n",
    "<br>-출력은 print함수를 이용한다.\n",
    "\n",
    "HINT: 점화식을 이용\n",
    "\n",
    "++재귀함수로도 만들었습니다.\n",
    "<br>-재귀함수는 maxscore2(A)입니다.\n",
    "\n",
    "-예1)\n",
    "<br>-입력: [10,20,15,25,10,20]\n",
    "<br>-출력: 75\n",
    "<br>* [$10$,$20$,15,$25$,10,$20$]\n",
    "<br>* 10,20,25,20을 지나면 된다.\n",
    "\n",
    "-예2)\n",
    "<br>-입력: [20,25,15,25,10,20]\n",
    "<br>-출력: 90\n",
    "<br>* [$20$,$25$,15,$25$,10,$20$]\n",
    "<br>* 20,25,25,20을 지나면 된다.\n",
    "\n",
    "-예3)\n",
    "<br>-입력: [20,25,15,25,10,20,30,30,9]\n",
    "<br>-출력: 129\n",
    "<br>* [$20$,$25$,15,$25$,10,$20$,30,$30$,$9$]\n",
    "<br>* 20,25,25,20,30,9을 지나면 된다."
   ]
  },
  {
   "cell_type": "code",
   "execution_count": 10,
   "id": "217ec57d",
   "metadata": {},
   "outputs": [],
   "source": [
    "def maxscore(A):\n",
    "    n=len(A)\n",
    "    lp=[0]*(n+1)   # lp[i]는 i번째 도착했을 때 최대 점수\n",
    "    lp[1]=A[0]   #lp[1]은 1번째 도착했을 때, 즉 한칸만 간 경우\n",
    "    if n>=2:\n",
    "        lp[2]=A[0]+A[1]   #A의 길이가 1일 경우 2번 갈 수 없기 때문에 n이 2 이상인 경우 실핼\n",
    "        for i in range(3,n+1):\n",
    "            lp[i]=max(lp[i-2],lp[i-3]+A[i-2])+A[i-1]   \n",
    "#lp[i]는 lp[i-2]에서 바로 한칸 뛰고 넘어온 경우와 lp[i-3]에서 A[i-2]를 지나고 온 경우 2가지 중 최대값 계산하여 입력\n",
    "    print(lp[n])"
   ]
  },
  {
   "cell_type": "code",
   "execution_count": 14,
   "id": "8db56b75",
   "metadata": {},
   "outputs": [],
   "source": [
    "def maxscore2(A): #재귀함수\n",
    "    n=len(A)\n",
    "    lp=[0]*(n+1)\n",
    "    lp[1]=A[0]\n",
    "    def loop(A,lp,i):\n",
    "        lp[i]=max(lp[i-2],lp[i-3]+A[i-2])+A[i-1]\n",
    "        if i==n:\n",
    "            return lp[i]\n",
    "        else:\n",
    "            return loop(A,lp,i+1)\n",
    "    if n==1:\n",
    "        return lp[1]\n",
    "    else:\n",
    "        lp[2]=A[0]+A[1]\n",
    "        return loop(A,lp,3)"
   ]
  },
  {
   "cell_type": "code",
   "execution_count": 15,
   "id": "dbb51455",
   "metadata": {},
   "outputs": [
    {
     "name": "stdout",
     "output_type": "stream",
     "text": [
      "75\n"
     ]
    },
    {
     "data": {
      "text/plain": [
       "75"
      ]
     },
     "execution_count": 15,
     "metadata": {},
     "output_type": "execute_result"
    }
   ],
   "source": [
    "A=[10,20,15,25,10,20]\n",
    "maxscore(A)\n",
    "maxscore2(A)"
   ]
  },
  {
   "cell_type": "code",
   "execution_count": 16,
   "id": "af92ddb6",
   "metadata": {},
   "outputs": [
    {
     "name": "stdout",
     "output_type": "stream",
     "text": [
      "90\n"
     ]
    },
    {
     "data": {
      "text/plain": [
       "90"
      ]
     },
     "execution_count": 16,
     "metadata": {},
     "output_type": "execute_result"
    }
   ],
   "source": [
    "A=[20,25,15,25,10,20]\n",
    "maxscore(A)\n",
    "maxscore2(A)"
   ]
  },
  {
   "cell_type": "code",
   "execution_count": 17,
   "id": "a0478594",
   "metadata": {},
   "outputs": [
    {
     "name": "stdout",
     "output_type": "stream",
     "text": [
      "129\n"
     ]
    },
    {
     "data": {
      "text/plain": [
       "129"
      ]
     },
     "execution_count": 17,
     "metadata": {},
     "output_type": "execute_result"
    }
   ],
   "source": [
    "A=[20,25,15,25,10,20,30,30,9]\n",
    "maxscore(A)\n",
    "maxscore2(A)"
   ]
  },
  {
   "cell_type": "code",
   "execution_count": null,
   "id": "36736130",
   "metadata": {},
   "outputs": [],
   "source": []
  }
 ],
 "metadata": {
  "kernelspec": {
   "display_name": "Python 3 (ipykernel)",
   "language": "python",
   "name": "python3"
  },
  "language_info": {
   "codemirror_mode": {
    "name": "ipython",
    "version": 3
   },
   "file_extension": ".py",
   "mimetype": "text/x-python",
   "name": "python",
   "nbconvert_exporter": "python",
   "pygments_lexer": "ipython3",
   "version": "3.11.4"
  }
 },
 "nbformat": 4,
 "nbformat_minor": 5
}
