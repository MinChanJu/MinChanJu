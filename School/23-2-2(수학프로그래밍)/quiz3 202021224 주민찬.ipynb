{
 "cells": [
  {
   "cell_type": "code",
   "execution_count": 135,
   "id": "b4a7eeee",
   "metadata": {},
   "outputs": [],
   "source": [
    "from math import *"
   ]
  },
  {
   "cell_type": "markdown",
   "id": "0a8a1ff4",
   "metadata": {},
   "source": [
    "**<span style=\"font-size: 20px; color: blue\">(Problem 1) 완전수(perfect number) </span>** \n",
    "\n",
    "자연수 $n$에 대하여 $n$이 아닌 모든 약수의 합이 $n$이면 $n$을 완전수라 한다.\n",
    "\n",
    "예)\n",
    "- 6의 약수: 1,2,3,6 $\\Rightarrow$ $6 = 1+2+3$\n",
    "- 28의 약수: 1,2,4,7,14,28 $\\Rightarrow$ $28 = 1+2+4+7+14$\n",
    "\n",
    "**1) 자연수 $n$을 입력받아 $n$이 완전수인지 판정하는 is_perfect_number()를 정의하시오.**\n",
    "\n",
    "예)\n",
    "- is_perfect_number(6) $\\Rightarrow$ True\n",
    "- is_perfect_number(7) $\\Rightarrow$ False"
   ]
  },
  {
   "cell_type": "code",
   "execution_count": 136,
   "id": "6996ac50",
   "metadata": {},
   "outputs": [],
   "source": [
    "def is_perfect_number(n):\n",
    "    val = 0\n",
    "    for i in range(1,n):\n",
    "        if n%i == 0:\n",
    "            val += i\n",
    "    if val == n:\n",
    "        return True\n",
    "    else:\n",
    "        return False"
   ]
  },
  {
   "cell_type": "code",
   "execution_count": 137,
   "id": "551bd4b8",
   "metadata": {},
   "outputs": [
    {
     "data": {
      "text/plain": [
       "True"
      ]
     },
     "execution_count": 137,
     "metadata": {},
     "output_type": "execute_result"
    }
   ],
   "source": [
    "is_perfect_number(6)"
   ]
  },
  {
   "cell_type": "markdown",
   "id": "473aa035",
   "metadata": {},
   "source": [
    "결과: True"
   ]
  },
  {
   "cell_type": "code",
   "execution_count": 138,
   "id": "60bc9448",
   "metadata": {},
   "outputs": [
    {
     "data": {
      "text/plain": [
       "False"
      ]
     },
     "execution_count": 138,
     "metadata": {},
     "output_type": "execute_result"
    }
   ],
   "source": [
    "is_perfect_number(10)"
   ]
  },
  {
   "cell_type": "markdown",
   "id": "c5c7e8d2",
   "metadata": {},
   "source": [
    "결과: False"
   ]
  },
  {
   "cell_type": "code",
   "execution_count": 139,
   "id": "b3012b15",
   "metadata": {},
   "outputs": [
    {
     "data": {
      "text/plain": [
       "True"
      ]
     },
     "execution_count": 139,
     "metadata": {},
     "output_type": "execute_result"
    }
   ],
   "source": [
    "is_perfect_number(28)"
   ]
  },
  {
   "cell_type": "markdown",
   "id": "dabf9ec2",
   "metadata": {},
   "source": [
    "결과: True"
   ]
  },
  {
   "cell_type": "markdown",
   "id": "6fc2fe2f",
   "metadata": {},
   "source": [
    "**2) 자연수 $n$을 입력받아 $n$ 이하의 완전수를 모두 출력하는 함수 perfect_number()를 정의하시오.**"
   ]
  },
  {
   "cell_type": "code",
   "execution_count": 140,
   "id": "29422cb1",
   "metadata": {},
   "outputs": [],
   "source": [
    "def perfect_number(n):\n",
    "    perfect = []\n",
    "    for i in range(1,n+1):\n",
    "        if is_perfect_number(i):\n",
    "            perfect.append(i)\n",
    "    return perfect"
   ]
  },
  {
   "cell_type": "code",
   "execution_count": 141,
   "id": "8315fcc4",
   "metadata": {},
   "outputs": [
    {
     "data": {
      "text/plain": [
       "[6, 28, 496, 8128]"
      ]
     },
     "execution_count": 141,
     "metadata": {},
     "output_type": "execute_result"
    }
   ],
   "source": [
    "perfect_number(10000)"
   ]
  },
  {
   "cell_type": "markdown",
   "id": "a677854f",
   "metadata": {},
   "source": [
    "결과\n",
    "\n",
    "Perfect number:  [6, 28, 496, 8128]"
   ]
  },
  {
   "cell_type": "markdown",
   "id": "f69e4e4e",
   "metadata": {},
   "source": [
    "**<span style=\"font-size: 20px; color: blue\">(Problem 2) 친화수(amicable numbers) </span>** \n",
    "\n",
    "두 수의 쌍 $(a,b)$에 대해\n",
    "- $a$의 약수 중 $a$가 아닌 모든 약수의 합이 $b$이고\n",
    "- $b$의 약수 중 $b$가 아닌 모든 약수의 합이 $a$이면\n",
    "두 수 $a$와 $b$를 친화수(또는 우애수)라 한다.\n",
    "\n",
    "예)\n",
    "- 220의 약수: 1,2,4,5,10,11,20,22,44,55,110,220 $\\Rightarrow$ $284 = 1+2+4+5+10+11+20+22+44+55+110$\n",
    "- 284의 약수: 1,2,4,71,142,284 $\\Rightarrow$ $220 = 1+2+4+71+142$\n",
    "\n",
    "**1) 자연수 $n$을 입력받아 $n$의 약수 중 $n$이 아닌 모든 약수의 합을 계산하는 divisor_sum()을 정의하시오.**\n",
    "\n",
    "예)\n",
    "- divisor_sum(220) $\\Rightarrow$ 284"
   ]
  },
  {
   "cell_type": "code",
   "execution_count": 142,
   "id": "8c6f41b0",
   "metadata": {},
   "outputs": [],
   "source": [
    "def divisor_sum(n):\n",
    "    val = 0\n",
    "    for i in range(1,n):\n",
    "        if n%i == 0:\n",
    "            val += i\n",
    "    return val"
   ]
  },
  {
   "cell_type": "code",
   "execution_count": 143,
   "id": "fe234f8f",
   "metadata": {},
   "outputs": [
    {
     "data": {
      "text/plain": [
       "284"
      ]
     },
     "execution_count": 143,
     "metadata": {},
     "output_type": "execute_result"
    }
   ],
   "source": [
    "divisor_sum(220)"
   ]
  },
  {
   "cell_type": "markdown",
   "id": "0e668e89",
   "metadata": {},
   "source": [
    "결과: 284"
   ]
  },
  {
   "cell_type": "markdown",
   "id": "bbb8a3d6",
   "metadata": {},
   "source": [
    "**2) 자연수 $n$을 입력받아 친화수 순서쌍 중 작은 수가 $n$ 이하인 친화수 순서쌍을 모두 출력하는 함수 amicable_numbers()를 정의하시오.**\n",
    "\n",
    "예)\n",
    "- amicalble_numbers(10000) $\\Rightarrow$ [[220, 284], [1184, 1210], [2620, 2924], [5020, 5564], [6232, 6368]]"
   ]
  },
  {
   "cell_type": "code",
   "execution_count": 144,
   "id": "98bc0746",
   "metadata": {},
   "outputs": [],
   "source": [
    "def amicable_numbers(n):\n",
    "    friend = []\n",
    "    for i in range(1,n+1):\n",
    "        val = divisor_sum(i)\n",
    "        if  val != i and divisor_sum(val) == i:\n",
    "            test = 1\n",
    "            for seq in friend:\n",
    "                if i in seq:\n",
    "                    test = 0\n",
    "            if test:\n",
    "                friend.append([i,val])\n",
    "    return friend"
   ]
  },
  {
   "cell_type": "code",
   "execution_count": 145,
   "id": "45ba8a3f",
   "metadata": {},
   "outputs": [
    {
     "data": {
      "text/plain": [
       "[[220, 284], [1184, 1210], [2620, 2924], [5020, 5564], [6232, 6368]]"
      ]
     },
     "execution_count": 145,
     "metadata": {},
     "output_type": "execute_result"
    }
   ],
   "source": [
    "amicable_numbers(10000)"
   ]
  },
  {
   "cell_type": "markdown",
   "id": "35e4aa03",
   "metadata": {},
   "source": [
    "결과\n",
    "\n",
    "[[220, 284], [1184, 1210], [2620, 2924], [5020, 5564], [6232, 6368]]"
   ]
  },
  {
   "cell_type": "markdown",
   "id": "e93182f7",
   "metadata": {},
   "source": [
    "**<span style=\"font-size: 20px; color: blue\">(Problem 3) 우애사슬 </span>** \n",
    "\n",
    "자연수의 쌍 $(a_1,a_2,\\cdots,a_n)$에 대해\n",
    "- $a_k$의 약수 중 $a_k$가 아닌 모든 약수의 합이 $a_{k+1}$이고 $(k = 1,\\cdots,n-1)$\n",
    "- $a_n$의 약수 중 $a_n$이 아닌 모든 약수의 합이 $a_1$이면\n",
    "$(a_1,a_2,\\cdots,a_n)$을 **길이 $n$의 우애사슬**이라 한다.\n",
    "\n",
    "예)\n",
    "- (12496, 14288, 15472, 14536, 14264): 길이 5 우애사슬\n",
    "\n",
    "**1) 자연수 $n$과 $M$을 입력받아 최소한 한 원소가 $M$ 이하인 길이 $n$ 우애사슬을 모두 출력하는 함수 chain()을 정의하시오**\n",
    "\n",
    "예)\n",
    "- chain(1, 1000) $\\Rightarrow$ [[6], [28], [496]]\n",
    "- chain(2, 10000)  $\\Rightarrow$ [[220,284], [1184,1210], [2620,2924], [5020,5564], [6232, 6368]]\n",
    "- chain(5, 20000)  $\\Rightarrow$ [[12496, 14288, 15472, 14536, 14264]]"
   ]
  },
  {
   "cell_type": "code",
   "execution_count": 146,
   "id": "cf28ba29",
   "metadata": {},
   "outputs": [],
   "source": [
    "def chain(n,M):\n",
    "    result = list()\n",
    "    for i in range(1,M+1):\n",
    "        sequence = [i]\n",
    "        tmp = i\n",
    "        for j in range(1,n):\n",
    "            val = divisor_sum(tmp)\n",
    "            if val not in sequence:\n",
    "                sequence.append(val)\n",
    "                tmp = val\n",
    "            else:\n",
    "                break\n",
    "        if len(sequence) == n and divisor_sum(sequence[-1]) == sequence[0]:\n",
    "            test = 1\n",
    "            for seq in result:\n",
    "                if sequence[0] in seq:\n",
    "                    test = 0\n",
    "            if test:\n",
    "                result.append(sequence)\n",
    "    return result"
   ]
  },
  {
   "cell_type": "code",
   "execution_count": 147,
   "id": "f405b5f9",
   "metadata": {},
   "outputs": [
    {
     "data": {
      "text/plain": [
       "[[220, 284], [1184, 1210], [2620, 2924], [5020, 5564], [6232, 6368]]"
      ]
     },
     "execution_count": 147,
     "metadata": {},
     "output_type": "execute_result"
    }
   ],
   "source": [
    "chain(2, 10000)"
   ]
  },
  {
   "cell_type": "markdown",
   "id": "2be4cbfd",
   "metadata": {},
   "source": [
    "결과:\n",
    "    \n",
    "[[220, 284], [1184, 1210], [2620, 2924], [5020, 5564], [6232, 6368]]"
   ]
  },
  {
   "cell_type": "code",
   "execution_count": 148,
   "id": "2ce008ff",
   "metadata": {},
   "outputs": [
    {
     "data": {
      "text/plain": [
       "[[12496, 14288, 15472, 14536, 14264]]"
      ]
     },
     "execution_count": 148,
     "metadata": {},
     "output_type": "execute_result"
    }
   ],
   "source": [
    "chain(5, 20000)"
   ]
  },
  {
   "cell_type": "markdown",
   "id": "a4d0567b",
   "metadata": {},
   "source": [
    "결과:\n",
    "\n",
    "[[12496, 14288, 15472, 14536, 14264]]"
   ]
  }
 ],
 "metadata": {
  "kernelspec": {
   "display_name": "Python 3 (ipykernel)",
   "language": "python",
   "name": "python3"
  },
  "language_info": {
   "codemirror_mode": {
    "name": "ipython",
    "version": 3
   },
   "file_extension": ".py",
   "mimetype": "text/x-python",
   "name": "python",
   "nbconvert_exporter": "python",
   "pygments_lexer": "ipython3",
   "version": "3.11.5"
  },
  "toc": {
   "base_numbering": 1,
   "nav_menu": {},
   "number_sections": true,
   "sideBar": true,
   "skip_h1_title": false,
   "title_cell": "Table of Contents",
   "title_sidebar": "Contents",
   "toc_cell": false,
   "toc_position": {},
   "toc_section_display": true,
   "toc_window_display": false
  },
  "varInspector": {
   "cols": {
    "lenName": 16,
    "lenType": 16,
    "lenVar": 40
   },
   "kernels_config": {
    "python": {
     "delete_cmd_postfix": "",
     "delete_cmd_prefix": "del ",
     "library": "var_list.py",
     "varRefreshCmd": "print(var_dic_list())"
    },
    "r": {
     "delete_cmd_postfix": ") ",
     "delete_cmd_prefix": "rm(",
     "library": "var_list.r",
     "varRefreshCmd": "cat(var_dic_list()) "
    }
   },
   "types_to_exclude": [
    "module",
    "function",
    "builtin_function_or_method",
    "instance",
    "_Feature"
   ],
   "window_display": false
  }
 },
 "nbformat": 4,
 "nbformat_minor": 5
}
