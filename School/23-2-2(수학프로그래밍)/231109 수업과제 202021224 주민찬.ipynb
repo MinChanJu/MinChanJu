{
 "cells": [
  {
   "cell_type": "code",
   "execution_count": 14,
   "metadata": {},
   "outputs": [],
   "source": [
    "# 수업 시간 함수 인용\n",
    "import copy\n",
    "\n",
    "def is_matrix(A):\n",
    "    m=len(A)\n",
    "    n=len(A[0])\n",
    "    for i in range(1,m):\n",
    "        if len(A[i])!=n:\n",
    "            return (0,0)\n",
    "    return (m,n)\n",
    "\n",
    "def Naive_Gauss(A):\n",
    "    mA, nA = is_matrix(A)\n",
    "    if mA == 0:\n",
    "        print(\"A는 행렬이 아닙니다.\")\n",
    "        return\n",
    "    if mA != nA:\n",
    "        print(\"A는 정사각 행렬이 아닙니다.\")\n",
    "        return    \n",
    "\n",
    "    C=copy.deepcopy(A)\n",
    "    for k in range(mA-1):\n",
    "        for i in range(k+1,mA):\n",
    "            xmult = C[i][k]/C[k][k]\n",
    "            C[i][k] = xmult\n",
    "            for j in range(k+1,mA):\n",
    "                C[i][j] -= xmult*C[k][j]\n",
    "    return C\n",
    "\n",
    "def matrix_zeros(m,n):\n",
    "    return [[0 for i in range(n)] for j in range(m)]\n",
    "\n",
    "def matrix_identity(n):\n",
    "    return [[1 if i==j else 0 for i in range(n)] for j in range(n)]\n",
    "\n",
    "def matrix_mult(A,B):\n",
    "    isA = is_matrix(A)\n",
    "    isB = is_matrix(B)\n",
    "    if isA==(0,0):\n",
    "        print(\"A는 행렬이 아닙니다.\")\n",
    "        return\n",
    "    if isB==(0,0):\n",
    "        print(\"B는 행렬이 아닙니다.\")\n",
    "        return\n",
    "    if isA[1]!=isB[0]:\n",
    "        print(\"차원이 맞지 않습니다.\")\n",
    "        return\n",
    "    C=matrix_zeros(isA[0],isB[1])\n",
    "    for i in range(isA[0]):\n",
    "        for j in range(isB[1]):\n",
    "            for k in range(isA[1]):\n",
    "                C[i][j]+=A[i][k]*B[k][j]\n",
    "    return C"
   ]
  },
  {
   "cell_type": "markdown",
   "metadata": {},
   "source": [
    "## 1. Cholesky factorization을 수행하는 함수를 정의"
   ]
  },
  {
   "cell_type": "code",
   "execution_count": 15,
   "metadata": {},
   "outputs": [],
   "source": [
    "def cholesky_factorization(A):\n",
    "    mA, nA = is_matrix(A)\n",
    "    if mA == 0:\n",
    "        print(\"A는 행렬이 아닙니다.\")\n",
    "        return\n",
    "    if mA != nA:\n",
    "        print(\"A는 정사각 행렬이 아닙니다.\")\n",
    "        return\n",
    "    \n",
    "    C = Naive_Gauss(A)\n",
    "    L = matrix_identity(mA)\n",
    "    U = matrix_zeros(mA,nA)\n",
    "    for i in range(mA):             # Naive_Gauss 함수를 이용하여 L',U' 구하기\n",
    "        for j in range(i,mA):\n",
    "            U[i][j]=C[i][j]\n",
    "        for j in range(i):\n",
    "            L[i][j]=C[i][j]\n",
    "\n",
    "    D = matrix_identity(mA)         # U행렬을 D,U으로 분해 그러면 U=L'^T (symmetric positive definite)\n",
    "    for i in range(mA):\n",
    "        tmp=U[i][i]\n",
    "        D[i][i]=tmp\n",
    "        for j in range(i,mA):\n",
    "            U[i][j]/=tmp\n",
    "    \n",
    "    for i in range(mA):             # D행렬은 diagonal matrix이기 때문에 diagonla entry만 루트 씌우기 (D=D'D')\n",
    "        D[i][i]=D[i][i]**0.5\n",
    "\n",
    "    L = matrix_mult(L,D)            # L'행렬과 D'행렬을 곱하여 새로운 L행렬 구하기 그러면 A = LL^T (symmetric positive definite)\n",
    "    U = matrix_mult(D,U)\n",
    "    return L,U"
   ]
  },
  {
   "cell_type": "code",
   "execution_count": 16,
   "metadata": {},
   "outputs": [
    {
     "data": {
      "text/plain": [
       "([[2.0, 0.0, 0.0], [6.0, 1.0, 0.0], [-8.0, 5.0, 3.0]],\n",
       " [[2.0, 6.0, -8.0], [0.0, 1.0, 5.0], [0.0, 0.0, 3.0]])"
      ]
     },
     "execution_count": 16,
     "metadata": {},
     "output_type": "execute_result"
    }
   ],
   "source": [
    "A = [[4,12,-16],[12,37,-43],[-16,-43,98]]\n",
    "cholesky_factorization(A)"
   ]
  },
  {
   "cell_type": "code",
   "execution_count": 17,
   "metadata": {},
   "outputs": [
    {
     "data": {
      "text/plain": [
       "([[2.0, 0.0, 0.0],\n",
       "  [-0.5, 1.9364916731037085, 0.0],\n",
       "  [0.0, -0.5163977794943223, 1.9321835661585918]],\n",
       " [[2.0, -0.5, 0.0],\n",
       "  [0.0, 1.9364916731037085, -0.5163977794943223],\n",
       "  [0.0, 0.0, 1.9321835661585918]])"
      ]
     },
     "execution_count": 17,
     "metadata": {},
     "output_type": "execute_result"
    }
   ],
   "source": [
    "A=[[4,-1,0],[-1,4,-1],[0,-1,4]]\n",
    "cholesky_factorization(A)"
   ]
  },
  {
   "cell_type": "markdown",
   "metadata": {},
   "source": [
    "## 2. Cholesky factorization을 통해 구한 L 행렬을 이용하여 시스템을 해결하는 Solve 함수 정의"
   ]
  },
  {
   "cell_type": "code",
   "execution_count": 18,
   "metadata": {},
   "outputs": [],
   "source": [
    "def solve_cholesky(L,b):\n",
    "    mA, nA = is_matrix(A)\n",
    "    if mA == 0:\n",
    "        print(\"A는 행렬이 아닙니다.\")\n",
    "        return\n",
    "    if mA != nA:\n",
    "        print(\"A는 정사각 행렬이 아닙니다.\")\n",
    "        return\n",
    "    \n",
    "    L,U=cholesky_factorization(A)     # cholesky_factorization을 이용하여 L행렬\n",
    "    y=[0 for i in range(mA)]\n",
    "    x=[0 for i in range(mA)]\n",
    "\n",
    "    for i in range(mA):             # L^Tx=y 로 하고 Ly=b 시스템을 풀어 y 구하기\n",
    "        y[i]=b[i]/L[i][i]\n",
    "        for j in range(i):\n",
    "            y[i]-=L[i][j]*y[j]/L[i][i]\n",
    "    \n",
    "    for i in range(mA-1,-1,-1):     # 구한 y를 이용하여 L^Tx=y 시스템을 풀어 x 구하기\n",
    "        x[i]=y[i]/L[i][i]\n",
    "        for j in range(i+1,mA):\n",
    "            x[i]-=L[j][i]*x[j]/L[i][i]\n",
    "            \n",
    "    return x"
   ]
  },
  {
   "cell_type": "code",
   "execution_count": 19,
   "metadata": {},
   "outputs": [
    {
     "data": {
      "text/plain": [
       "[1.0, 1.0, 1.0]"
      ]
     },
     "execution_count": 19,
     "metadata": {},
     "output_type": "execute_result"
    }
   ],
   "source": [
    "A = [[4,12,-16],[12,37,-43],[-16,-43,98]]\n",
    "b = [0,6,39]\n",
    "solve_cholesky(A,b)"
   ]
  },
  {
   "cell_type": "code",
   "execution_count": 20,
   "metadata": {},
   "outputs": [
    {
     "data": {
      "text/plain": [
       "[2.0, 1.0000000000000002, 3.0000000000000004]"
      ]
     },
     "execution_count": 20,
     "metadata": {},
     "output_type": "execute_result"
    }
   ],
   "source": [
    "A=[[4,-1,0],[-1,4,-1],[0,-1,4]]\n",
    "b=[7,-1,11]\n",
    "solve_cholesky(A,b)"
   ]
  },
  {
   "cell_type": "code",
   "execution_count": null,
   "metadata": {},
   "outputs": [],
   "source": []
  }
 ],
 "metadata": {
  "kernelspec": {
   "display_name": "mp",
   "language": "python",
   "name": "mp"
  },
  "language_info": {
   "codemirror_mode": {
    "name": "ipython",
    "version": 3
   },
   "file_extension": ".py",
   "mimetype": "text/x-python",
   "name": "python",
   "nbconvert_exporter": "python",
   "pygments_lexer": "ipython3",
   "version": "3.11.5"
  }
 },
 "nbformat": 4,
 "nbformat_minor": 2
}
