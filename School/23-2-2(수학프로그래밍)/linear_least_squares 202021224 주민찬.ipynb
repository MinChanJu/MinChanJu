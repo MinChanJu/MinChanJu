{
 "cells": [
  {
   "cell_type": "code",
   "execution_count": 1,
   "id": "9ca04acf",
   "metadata": {},
   "outputs": [],
   "source": [
    "import copy"
   ]
  },
  {
   "cell_type": "code",
   "execution_count": 2,
   "id": "52dcad3c",
   "metadata": {},
   "outputs": [],
   "source": [
    "def vector_subtraction(u,v):\n",
    "    if len(u) != len(v):\n",
    "        print(\"벡터의 크기가 다릅니다.\")\n",
    "        return\n",
    "    \n",
    "    t = [0 for j in range(len(u))]\n",
    "    for i in range(len(u)):\n",
    "        t[i] = u[i] - v[i]\n",
    "    return t"
   ]
  },
  {
   "cell_type": "code",
   "execution_count": 3,
   "id": "3dd3fbce",
   "metadata": {},
   "outputs": [],
   "source": [
    "def vector_scalar_mult(u,k):\n",
    "    v = u.copy()\n",
    "    for j in range(len(u)):\n",
    "        v[j] *= k\n",
    "    return v"
   ]
  },
  {
   "cell_type": "code",
   "execution_count": 4,
   "id": "428e18f5",
   "metadata": {},
   "outputs": [],
   "source": [
    "def vector_inner_product(u,v):\n",
    "    if len(u) != len(v):\n",
    "        print(\"벡터의 크기가 다릅니다.\")\n",
    "        return\n",
    "    \n",
    "    val = 0\n",
    "    for i in range(len(u)):\n",
    "        val += u[i] * v[i]\n",
    "    return val"
   ]
  },
  {
   "cell_type": "code",
   "execution_count": 5,
   "id": "32ad028a",
   "metadata": {},
   "outputs": [],
   "source": [
    "def vector_outer_product(u,v):\n",
    "    nu = len(u)\n",
    "    nv = len(v)\n",
    "    \n",
    "    t = [[0 for j in range(nv)] for i in range(nu)]\n",
    "    for i in range(nu):\n",
    "        for j in range(nv):\n",
    "            t[i][j] = u[i] * v[j]\n",
    "    return t"
   ]
  },
  {
   "cell_type": "code",
   "execution_count": 6,
   "id": "f3c7bdc9",
   "metadata": {},
   "outputs": [],
   "source": [
    "def is_matrix(A):\n",
    "    m = len(A)\n",
    "    n = len(A[0])\n",
    "    for i in range(1,m):\n",
    "        if len(A[i]) != n:\n",
    "            return (0,0)\n",
    "    return (m,n)"
   ]
  },
  {
   "cell_type": "code",
   "execution_count": 7,
   "id": "7b685fdd",
   "metadata": {},
   "outputs": [],
   "source": [
    "def matrix_zeros(m,n):\n",
    "    return [[0 for j in range(n)] for i in range(m)]"
   ]
  },
  {
   "cell_type": "code",
   "execution_count": 8,
   "id": "9e8f8d20",
   "metadata": {},
   "outputs": [],
   "source": [
    "def matrix_identity(n):\n",
    "    return [[1 if i == j else 0 for j in range(n)] for i in range(n)]"
   ]
  },
  {
   "cell_type": "code",
   "execution_count": 9,
   "metadata": {},
   "outputs": [],
   "source": [
    "def matrix_subtraction(A,B):\n",
    "    if is_matrix(A) == (0,0):\n",
    "        print(\"A는 행렬이 아닙니다.\")\n",
    "        return\n",
    "    if is_matrix(B) == (0,0):\n",
    "        print(\"B는 행렬이 아닙니다.\")\n",
    "        return\n",
    "    \n",
    "    mA, nA = len(A), len(A[0])\n",
    "    mB, nB = len(B), len(B[0])\n",
    "    \n",
    "    if mA != mB or nA != nB:\n",
    "        print(\"행렬의 크기가 다릅니다.\")\n",
    "        return\n",
    "    \n",
    "    C = matrix_zeros(mA,nA)\n",
    "    for i in range(mA):\n",
    "        for j in range(nA):\n",
    "            C[i][j] = A[i][j] - B[i][j]\n",
    "    return C"
   ]
  },
  {
   "cell_type": "code",
   "execution_count": 10,
   "id": "addd9af9",
   "metadata": {},
   "outputs": [],
   "source": [
    "def matrix_transpose(A):\n",
    "    if is_matrix(A) == (0,0):\n",
    "        print(\"A는 행렬이 아닙니다.\")\n",
    "        return\n",
    "    \n",
    "    mA, nA = len(A), len(A[0])\n",
    "    \n",
    "    C = matrix_zeros(nA,mA)\n",
    "    for i in range(nA):\n",
    "        for j in range(mA):\n",
    "            C[i][j] = A[j][i]\n",
    "    return C"
   ]
  },
  {
   "cell_type": "code",
   "execution_count": 11,
   "id": "bbe7c933",
   "metadata": {},
   "outputs": [],
   "source": [
    "def matrix_scalar_mult(A,k):\n",
    "    if is_matrix(A) == (0,0):\n",
    "        print(\"A는 행렬이 아닙니다.\")\n",
    "        return\n",
    "    \n",
    "    mA, nA = len(A), len(A[0])\n",
    "    \n",
    "    C = matrix_zeros(mA,nA)\n",
    "    for i in range(mA):\n",
    "        for j in range(nA):\n",
    "            C[i][j] = k * A[i][j]\n",
    "    return C"
   ]
  },
  {
   "cell_type": "code",
   "execution_count": 12,
   "id": "1743154f",
   "metadata": {},
   "outputs": [],
   "source": [
    "def matrix_vector_mult(A,x):\n",
    "    if is_matrix(A) == (0,0):\n",
    "        print(\"A는 행렬이 아닙니다.\")\n",
    "        return\n",
    "    \n",
    "    mA, nA = len(A), len(A[0])\n",
    "        \n",
    "    if nA != len(x):\n",
    "        print(\"차원이 맞지 않아 계산할 수 없습니다.\")\n",
    "        return\n",
    "    \n",
    "    v = [0 for j in range(mA)]\n",
    "    for i in range(mA):\n",
    "        for j in range(nA):\n",
    "            v[i] += A[i][j] * x[j]\n",
    "    return v"
   ]
  },
  {
   "cell_type": "code",
   "execution_count": 13,
   "id": "627052e4",
   "metadata": {},
   "outputs": [],
   "source": [
    "def matrix_mult(A,B):\n",
    "    if is_matrix(A) == (0,0):\n",
    "        print(\"A는 행렬이 아닙니다.\")\n",
    "        return\n",
    "    if is_matrix(B) == (0,0):\n",
    "        print(\"A는 행렬이 아닙니다.\")\n",
    "        return\n",
    "    \n",
    "    mA, nA = len(A), len(A[0])\n",
    "    mB, nB = len(B), len(B[0])\n",
    "    \n",
    "    if nA != mB:\n",
    "        print(\"차원이 맞지 않아 계산할 수 없습니다.\")\n",
    "        return\n",
    "    \n",
    "    C = matrix_zeros(mA,nB)\n",
    "    for i in range(mA):\n",
    "        for k in range(nB):\n",
    "            for j in range(nA):\n",
    "                C[i][k] += A[i][j] * B[j][k]\n",
    "    return C"
   ]
  },
  {
   "cell_type": "code",
   "execution_count": 14,
   "id": "a4088d3d",
   "metadata": {},
   "outputs": [],
   "source": [
    "def lu(A):\n",
    "    mA, nA = is_matrix(A)\n",
    "    if mA == 0:\n",
    "        print(\"A는 행렬이 아닙니다.\")\n",
    "        return\n",
    "    if mA != nA:\n",
    "        print(\"A는 정사각 행렬이 아닙니다.\")\n",
    "        return\n",
    "    \n",
    "    C = copy.deepcopy(A)\n",
    "    for k in range(mA-1): # for k=1 to n-1\n",
    "        for i in range(k+1, mA): # for i=k+1 to n\n",
    "            xmult = C[i][k]/C[k][k] # xmult <- a_{ik}/a_{kk}\n",
    "            C[i][k] = xmult # a_{ik} <- xmult \n",
    "            for j in range(k+1, mA): # for j=k+1 to n\n",
    "                C[i][j] -= xmult * C[k][j] # a_{ij} <- a_{ij} - (xmult)a_{kj} \n",
    "    return C"
   ]
  },
  {
   "cell_type": "code",
   "execution_count": 15,
   "id": "0d2b6eed",
   "metadata": {},
   "outputs": [],
   "source": [
    "def solve_lu(A,b):\n",
    "    N = len(A)\n",
    "    x = [0 for j in range(N)]\n",
    "    for k in range(N-1):\n",
    "        for i in range(k+1,N):\n",
    "            b[i] -= A[i][k] * b[k]\n",
    "    \n",
    "    x[-1] = b[-1] / A[-1][-1]\n",
    "    for i in range(N-2,-1,-1):\n",
    "        s = b[i]\n",
    "        for j in range(i+1,N):\n",
    "            s -= A[i][j] * x[j]\n",
    "        x[i] = s / A[i][i]\n",
    "    return x"
   ]
  },
  {
   "cell_type": "code",
   "execution_count": 16,
   "id": "d4689255",
   "metadata": {},
   "outputs": [],
   "source": [
    "def Householder_QR(A):\n",
    "    mA,nA = is_matrix(A)\n",
    "    R = copy.deepcopy(A)\n",
    "    Q = matrix_identity(mA)\n",
    "    I = matrix_identity(mA)\n",
    "    \n",
    "    for k in range(min(nA,mA-1)):\n",
    "        val = 0\n",
    "        for j in range(k,mA):\n",
    "            val += R[j][k]**2\n",
    "        alpha = -(R[k][k]/abs(R[k][k])) * val**(1/2)\n",
    "        e = [0 for j in range(mA)]\n",
    "        e[k] = 1\n",
    "        tmp = [0 for j in range(k)] + [R[j][k] for j in range(k,mA)]\n",
    "        v =  vector_subtraction(tmp, vector_scalar_mult(e,alpha))\n",
    "        beta = vector_inner_product(v,v)\n",
    "        if beta == 0:\n",
    "            continue\n",
    "        H = matrix_scalar_mult(vector_outer_product(v,v), 2/beta)\n",
    "        H = matrix_subtraction(I,H)\n",
    "        Q = matrix_mult(H,Q)\n",
    "        R = matrix_mult(H,R)\n",
    "    return matrix_transpose(Q), R"
   ]
  },
  {
   "cell_type": "code",
   "execution_count": 17,
   "id": "0503b24f",
   "metadata": {},
   "outputs": [],
   "source": [
    "def vector_norm(u):\n",
    "    val = 0\n",
    "    for i in range(len(u)):\n",
    "        val += u[i] **2\n",
    "    return val**(1/2)"
   ]
  },
  {
   "cell_type": "code",
   "execution_count": 18,
   "id": "1ed42680",
   "metadata": {},
   "outputs": [],
   "source": [
    "def Gram_Schmidt_QR(A):\n",
    "    mA, nA = is_matrix(A)\n",
    "    Q = matrix_zeros(nA,mA)\n",
    "    R = matrix_zeros(nA,nA)\n",
    "    for k in range(nA):\n",
    "        Q[k] = [A[j][k] for j in range(mA)]\n",
    "        a = [A[i][k] for i in range(mA)]\n",
    "        for j in range(k):\n",
    "            R[j][k] = vector_inner_product(Q[j],a)\n",
    "            tmp = vector_scalar_mult(Q[j],R[j][k])\n",
    "            Q[k] = vector_subtraction(Q[k], tmp)\n",
    "        R[k][k] = vector_norm(Q[k])\n",
    "        if R[k][k] == 0: return 0, 0\n",
    "        Q[k] = vector_scalar_mult(Q[k], 1/R[k][k])\n",
    "    return matrix_transpose(Q), R"
   ]
  },
  {
   "cell_type": "markdown",
   "id": "5441b8c8",
   "metadata": {},
   "source": [
    "**<span style=\"font-size: 20px; color: blue\">(Exercise 1) Linear Least Squares </span>** \n",
    "\n",
    "다음 데이터를 잘 표현하는 최적의 직선 $y = a + bx$를 찾으시오.\n",
    "\n",
    "|$x$|$0$|$1$|$1$|$2$|$2$|$3$|$4$|\n",
    "|---:|---:|---:|---:|---:|---:|---:|---:|\n",
    "|$y$|$-1$|$2$|$1$|$4$|$3$|$5$|$4$|\n",
    "\n",
    "- 행렬 $A\\in\\mathbb{R}^{m\\times n}$와 벡터 $\\boldsymbol{c}\\in\\mathbb{R}^m$를 입력 받아 정규방정식을 해결하여 벡터 $\\boldsymbol{x}\\in\\mathbb{R}^n$는 함수 least_squares()를 정의하시오."
   ]
  },
  {
   "cell_type": "markdown",
   "metadata": {},
   "source": [
    "### 혼자"
   ]
  },
  {
   "cell_type": "code",
   "execution_count": 19,
   "id": "d51b640b",
   "metadata": {},
   "outputs": [],
   "source": [
    "def least_squares(A,c):\n",
    "    C = matrix_mult(matrix_transpose(A),A)\n",
    "    b = matrix_vector_mult(matrix_transpose(A),c)\n",
    "    x = solve_lu(lu(C),b)\n",
    "    return x"
   ]
  },
  {
   "cell_type": "code",
   "execution_count": 20,
   "id": "8af0d8eb",
   "metadata": {},
   "outputs": [],
   "source": [
    "A = [[1,0],[1,1],[1,1],[1,2],[1,2],[1,3],[1,4]]\n",
    "c = [-1,2,1,4,3,5,4]"
   ]
  },
  {
   "cell_type": "code",
   "execution_count": 21,
   "id": "e1e1418c",
   "metadata": {},
   "outputs": [],
   "source": [
    "x = least_squares(A,c)"
   ]
  },
  {
   "cell_type": "code",
   "execution_count": 22,
   "id": "ec0bdec6",
   "metadata": {},
   "outputs": [
    {
     "name": "stdout",
     "output_type": "stream",
     "text": [
      "[0.07894736842105335, 1.3421052631578945]\n"
     ]
    }
   ],
   "source": [
    "print(x)"
   ]
  },
  {
   "cell_type": "code",
   "execution_count": 23,
   "metadata": {},
   "outputs": [
    {
     "data": {
      "image/png": "[encoded data removed]",
      "text/plain": [
       "<Figure size 600x500 with 1 Axes>"
      ]
     },
     "metadata": {},
     "output_type": "display_data"
    }
   ],
   "source": [
    "import matplotlib.pyplot as plt\n",
    "plt.rcParams[\"figure.figsize\"] = (6,5)\n",
    "x0 = [0,1,2,3,4]\n",
    "y0 = [i*x[1]+x[0] for i in x0]\n",
    "x1 = [0,1,1,2,2,3,4]\n",
    "y1 = [-1,2,1,4,3,5,4]\n",
    "plt.plot(x1,y1,'o')\n",
    "plt.plot(x0,y0)\n",
    "plt.grid()\n",
    "plt.show()"
   ]
  },
  {
   "cell_type": "markdown",
   "id": "bbb9f328",
   "metadata": {},
   "source": [
    "다음 데이터를 잘 표현하는 최적의 곡선 $y = ax^2 + bx + c$를 찾으시오.\n",
    "\n",
    "|$x$|$0.0$|$0.5$|$1.0$|$1.5$|$2.0$|$2.5$|$3.0$|$3.5$|$4.0$|$4.5$|$5.0$|$5.5$|$6.0$|$6.5$|$7.0$|$7.5$|$8.0$|$8.5$|$9.0$|$9.5$|$10.0$|\n",
    "---:|---:|---:|---:|---:|---:|---:|---:|---:|---:|---:|---:|---:|---:|---:|---:|---:|---:|---:|---:|---:|---:|\n",
    "|$y$|$2.9$|$2.7$|$4.8$|$5.3$|$7.1$|$7.6$|$7.7$|$7.6$|$9.4$|$9.0$|$9.6$|$10.0$|$10.2$|$9.7$|$8.3$|$8.4$|$9.0$|$8.3$|$6.6$|$6.7$|$4.1$|"
   ]
  },
  {
   "cell_type": "code",
   "execution_count": 50,
   "id": "49edcf30",
   "metadata": {},
   "outputs": [],
   "source": [
    "x = [0.0,0.5,1.0,1.5,2.0,2.5,3.0,3.5,4.0,4.5,5.0,5.5,6.0,6.5,7.0,7.5,8.0,8.5,9.0,9.5,10.0]\n",
    "A = [[1, xval, xval**2] for xval in x]\n",
    "c = [2.9,2.7,4.8,5.3,7.1,7.6,7.7,7.6,9.4,9.0,9.6,10.0,10.2,9.7,8.3,8.4,9.0,8.3,6.6,6.7,4.1]"
   ]
  },
  {
   "cell_type": "code",
   "execution_count": 51,
   "id": "1d92d597",
   "metadata": {},
   "outputs": [
    {
     "name": "stdout",
     "output_type": "stream",
     "text": [
      "[2.1757199322416776, 2.670413385241756, -0.23844393592677302]\n"
     ]
    }
   ],
   "source": [
    "x0 = least_squares(A,c)\n",
    "print(x0)"
   ]
  },
  {
   "cell_type": "code",
   "execution_count": 52,
   "metadata": {},
   "outputs": [
    {
     "data": {
      "image/png": "[encoded data removed]",
      "text/plain": [
       "<Figure size 600x500 with 1 Axes>"
      ]
     },
     "metadata": {},
     "output_type": "display_data"
    }
   ],
   "source": [
    "y = [(i*i*x0[2] + i*x0[1] + x0[0]) for i in x]\n",
    "plt.plot(x,c,'o')\n",
    "plt.plot(x,y)\n",
    "plt.grid()\n",
    "plt.show()"
   ]
  },
  {
   "cell_type": "markdown",
   "metadata": {},
   "source": [
    "**<span style=\"font-size: 20px; color: blue\">(Exercise 1) Linear Least Squares </span>** \n",
    "\n",
    "다음 데이터를 잘 표현하는 최적의 직선 $y = a + bx$를 찾으시오.\n",
    "\n",
    "|$x$|$0$|$1$|$1$|$2$|$2$|$3$|$4$|\n",
    "|---:|---:|---:|---:|---:|---:|---:|---:|\n",
    "|$y$|$-1$|$2$|$1$|$4$|$3$|$5$|$4$|\n",
    "\n",
    "- 행렬 $A\\in\\mathbb{R}^{m\\times n}$와 벡터 $\\boldsymbol{c}\\in\\mathbb{R}^m$를 입력 받아 정규방정식을 해결하여 벡터 $\\boldsymbol{x}\\in\\mathbb{R}^n$는 함수 least_squares()를 정의하시오."
   ]
  },
  {
   "cell_type": "markdown",
   "metadata": {},
   "source": [
    "### 교수님"
   ]
  },
  {
   "cell_type": "code",
   "execution_count": 27,
   "metadata": {},
   "outputs": [],
   "source": [
    "def least_squares(A,c):\n",
    "    A_T = matrix_transpose(A)\n",
    "    AA = matrix_mult(A_T,A)\n",
    "    cc = matrix_vector_mult(A_T,c)\n",
    "    C = lu(AA)\n",
    "    x = solve_lu(C,cc)\n",
    "    return x"
   ]
  },
  {
   "cell_type": "code",
   "execution_count": 53,
   "metadata": {},
   "outputs": [],
   "source": [
    "x1 = [0,1,1,2,2,3,4]\n",
    "A = [[1,0],[1,1],[1,1],[1,2],[1,2],[1,3],[1,4]]\n",
    "c = [-1,2,1,4,3,5,4]"
   ]
  },
  {
   "cell_type": "code",
   "execution_count": 54,
   "metadata": {},
   "outputs": [],
   "source": [
    "x = least_squares(A,c)"
   ]
  },
  {
   "cell_type": "code",
   "execution_count": 55,
   "metadata": {},
   "outputs": [
    {
     "name": "stdout",
     "output_type": "stream",
     "text": [
      "[0.07894736842105335, 1.3421052631578945]\n"
     ]
    }
   ],
   "source": [
    "print(x)"
   ]
  },
  {
   "cell_type": "code",
   "execution_count": 56,
   "id": "488487cd",
   "metadata": {},
   "outputs": [
    {
     "data": {
      "image/png": "[encoded data removed]",
      "text/plain": [
       "<Figure size 600x500 with 1 Axes>"
      ]
     },
     "metadata": {},
     "output_type": "display_data"
    }
   ],
   "source": [
    "y = [(i*x[1] + x[0]) for i in x1]\n",
    "plt.plot(x1,c,'o')\n",
    "plt.plot(x1,y)\n",
    "plt.grid()\n",
    "plt.show()"
   ]
  },
  {
   "cell_type": "markdown",
   "metadata": {},
   "source": [
    "다음 데이터를 잘 표현하는 최적의 곡선 $y = ax^2 + bx + c$를 찾으시오.\n",
    "\n",
    "|$x$|$0.0$|$0.5$|$1.0$|$1.5$|$2.0$|$2.5$|$3.0$|$3.5$|$4.0$|$4.5$|$5.0$|$5.5$|$6.0$|$6.5$|$7.0$|$7.5$|$8.0$|$8.5$|$9.0$|$9.5$|$10.0$|\n",
    "---:|---:|---:|---:|---:|---:|---:|---:|---:|---:|---:|---:|---:|---:|---:|---:|---:|---:|---:|---:|---:|---:|\n",
    "|$y$|$2.9$|$2.7$|$4.8$|$5.3$|$7.1$|$7.6$|$7.7$|$7.6$|$9.4$|$9.0$|$9.6$|$10.0$|$10.2$|$9.7$|$8.3$|$8.4$|$9.0$|$8.3$|$6.6$|$6.7$|$4.1$|"
   ]
  },
  {
   "cell_type": "code",
   "execution_count": 64,
   "metadata": {},
   "outputs": [],
   "source": [
    "x1 = [0.0,0.5,1.0,1.5,2.0,2.5,3.0,3.5,4.0,4.5,5.0,5.5,6.0,6.5,7.0,7.5,8.0,8.5,9.0,9.5,10.0]\n",
    "A = [[1, xval, xval**2] for xval in x1]\n",
    "c = [2.9,2.7,4.8,5.3,7.1,7.6,7.7,7.6,9.4,9.0,9.6,10.0,10.2,9.7,8.3,8.4,9.0,8.3,6.6,6.7,4.1]"
   ]
  },
  {
   "cell_type": "code",
   "execution_count": 65,
   "metadata": {},
   "outputs": [
    {
     "name": "stdout",
     "output_type": "stream",
     "text": [
      "[2.1757199322416776, 2.670413385241756, -0.23844393592677302]\n"
     ]
    }
   ],
   "source": [
    "x = least_squares(A,c)\n",
    "print(x)"
   ]
  },
  {
   "cell_type": "code",
   "execution_count": 66,
   "id": "a0e879b5",
   "metadata": {},
   "outputs": [
    {
     "data": {
      "image/png": "[encoded data removed]",
      "text/plain": [
       "<Figure size 600x500 with 1 Axes>"
      ]
     },
     "metadata": {},
     "output_type": "display_data"
    }
   ],
   "source": [
    "y = [(i*i*x[2] + i*x[1] + x[0]) for i in x1]\n",
    "plt.plot(x1,c,'o')\n",
    "plt.plot(x1,y)\n",
    "plt.grid()\n",
    "plt.show()"
   ]
  },
  {
   "cell_type": "markdown",
   "id": "568843a0",
   "metadata": {},
   "source": [
    "**<span style=\"font-size: 20px; color: blue\">(Exercise 2) Linear Least Squares with QR </span>** \n",
    "\n",
    "다음 데이터를 잘 표현하는 최적의 직선 $y = ax + b$를 찾으시오.\n",
    "\n",
    "|$x$|$0$|$1$|$1$|$2$|$2$|$3$|$4$|\n",
    "|---:|---:|---:|---:|---:|---:|---:|---:|\n",
    "|$y$|$-1$|$2$|$1$|$4$|$3$|$5$|$4$|\n",
    "\n",
    "- 행렬 $A\\in\\mathbb{R}^{m\\times n}$와 벡터 $\\boldsymbol{c}\\in\\mathbb{R}^m$를 입력 받아 Householder QR factorization을 이용하여 벡터 $\\boldsymbol{x}\\in\\mathbb{R}^n$는 함수 least_squares_QR_H()를 정의하시오."
   ]
  },
  {
   "cell_type": "code",
   "execution_count": 33,
   "id": "6a45fa77",
   "metadata": {},
   "outputs": [],
   "source": [
    "A = [[1,0],[1,1],[1,1],[1,2],[1,2],[1,3],[1,4]]\n",
    "c = [-1,2,1,4,3,5,4]"
   ]
  },
  {
   "cell_type": "markdown",
   "metadata": {},
   "source": [
    "### 혼자"
   ]
  },
  {
   "cell_type": "code",
   "execution_count": 34,
   "id": "9d5b9d7f",
   "metadata": {},
   "outputs": [],
   "source": [
    "def least_squares_QR_H(A,c):\n",
    "    n,m = len(A),len(A[0])\n",
    "    Q,R = Householder_QR(A)\n",
    "    Q_T = matrix_transpose(Q)\n",
    "    cc = matrix_vector_mult(Q_T[:m],c)\n",
    "    R = R[:m]\n",
    "    x = [0 for _ in range(m)]\n",
    "    x[-1] = cc[-1]/R[-1][-1]\n",
    "    for i in range(m-2,-1,-1):\n",
    "        val=0\n",
    "        for j in range(i+1,m):\n",
    "            val += x[j]*R[i][j]\n",
    "        x[i] = (cc[i]-val)/R[i][i]\n",
    "    return x"
   ]
  },
  {
   "cell_type": "code",
   "execution_count": 35,
   "id": "242af328",
   "metadata": {},
   "outputs": [],
   "source": [
    "x = least_squares_QR_H(A,c)"
   ]
  },
  {
   "cell_type": "code",
   "execution_count": 36,
   "id": "6ba45c55",
   "metadata": {},
   "outputs": [
    {
     "name": "stdout",
     "output_type": "stream",
     "text": [
      "[0.07894736842105306, 1.3421052631578947]\n"
     ]
    }
   ],
   "source": [
    "print(x)"
   ]
  },
  {
   "cell_type": "code",
   "execution_count": 37,
   "metadata": {},
   "outputs": [
    {
     "data": {
      "image/png": "[encoded data removed]",
      "text/plain": [
       "<Figure size 600x500 with 1 Axes>"
      ]
     },
     "metadata": {},
     "output_type": "display_data"
    }
   ],
   "source": [
    "import matplotlib.pyplot as plt\n",
    "plt.rcParams[\"figure.figsize\"] = (6,5)\n",
    "x0 = [0,1,2,3,4]\n",
    "y0 = [i*x[1]+x[0] for i in x0]\n",
    "x1 = [0,1,1,2,2,3,4]\n",
    "y1 = [-1,2,1,4,3,5,4]\n",
    "plt.plot(x1,y1,'o')\n",
    "plt.plot(x0,y0)\n",
    "plt.grid()\n",
    "plt.show()"
   ]
  },
  {
   "cell_type": "markdown",
   "metadata": {},
   "source": [
    "### 교수님"
   ]
  },
  {
   "cell_type": "code",
   "execution_count": 38,
   "metadata": {},
   "outputs": [],
   "source": [
    "def least_squares_QR_H(A,c):\n",
    "    Q,R = Householder_QR(A)\n",
    "    b = matrix_vector_mult(matrix_transpose(Q),c)\n",
    "    N = len(R[0])\n",
    "    x = [0 for j in range(N)]\n",
    "\n",
    "    x[-1] = b[N-1]/R[N-1][N-1]\n",
    "    for i in range(N-2,-1,-1):\n",
    "        s = b[i]\n",
    "        for j in range(i+1,N):\n",
    "            s -= R[i][j]*x[j]\n",
    "        x[i] = s/R[i][i]\n",
    "    return x"
   ]
  },
  {
   "cell_type": "code",
   "execution_count": 39,
   "metadata": {},
   "outputs": [
    {
     "name": "stdout",
     "output_type": "stream",
     "text": [
      "[0.07894736842105306, 1.3421052631578947]\n"
     ]
    }
   ],
   "source": [
    "x = least_squares_QR_H(A,c)\n",
    "print(x)"
   ]
  },
  {
   "cell_type": "markdown",
   "id": "a65fc69e",
   "metadata": {},
   "source": [
    "- 행렬 $A\\in\\mathbb{R}^{m\\times n}$와 벡터 $\\boldsymbol{c}\\in\\mathbb{R}^m$를 입력 받아 Gram-Schmidt Orthogonalization을 이용하여 벡터 $\\boldsymbol{x}\\in\\mathbb{R}^n$는 함수 least_squares_QR_GS()를 정의하시오."
   ]
  },
  {
   "cell_type": "code",
   "execution_count": 40,
   "id": "c4ba3b83",
   "metadata": {},
   "outputs": [],
   "source": [
    "def least_squares_QR_GS(A,c):\n",
    "    n,m = len(A),len(A[0])\n",
    "    Q,R = Gram_Schmidt_QR(A)\n",
    "    Q_T = matrix_transpose(Q)\n",
    "    cc = matrix_vector_mult(Q_T[:m],c)\n",
    "    R = R[:m]\n",
    "    x = [0 for _ in range(m)]\n",
    "    x[-1] = cc[-1]/R[-1][-1]\n",
    "    for i in range(m-2,-1,-1):\n",
    "        val=0\n",
    "        for j in range(i+1,m):\n",
    "            val += x[j]*R[i][j]\n",
    "        x[i] = (cc[i]-val)/R[i][i]\n",
    "    return x"
   ]
  },
  {
   "cell_type": "code",
   "execution_count": 41,
   "id": "2405140a",
   "metadata": {},
   "outputs": [],
   "source": [
    "x = least_squares_QR_GS(A,c)"
   ]
  },
  {
   "cell_type": "code",
   "execution_count": 42,
   "id": "fcf5ffa6",
   "metadata": {},
   "outputs": [
    {
     "name": "stdout",
     "output_type": "stream",
     "text": [
      "[0.07894736842105038, 1.342105263157896]\n"
     ]
    }
   ],
   "source": [
    "print(x)"
   ]
  },
  {
   "cell_type": "markdown",
   "id": "3b2799e4",
   "metadata": {},
   "source": [
    "다음 데이터를 잘 표현하는 최적의 곡선 $y = ax^2 + bx + c$를 찾으시오.\n",
    "\n",
    "|$x$|$0.0$|$0.5$|$1.0$|$1.5$|$2.0$|$2.5$|$3.0$|$3.5$|$4.0$|$4.5$|$5.0$|$5.5$|$6.0$|$6.5$|$7.0$|$7.5$|$8.0$|$8.5$|$9.0$|$9.5$|$10.0$|\n",
    "---:|---:|---:|---:|---:|---:|---:|---:|---:|---:|---:|---:|---:|---:|---:|---:|---:|---:|---:|---:|---:|---:|\n",
    "|$y$|$2.9$|$2.7$|$4.8$|$5.3$|$7.1$|$7.6$|$7.7$|$7.6$|$9.4$|$9.0$|$9.6$|$10.0$|$10.2$|$9.7$|$8.3$|$8.4$|$9.0$|$8.3$|$6.6$|$6.7$|$4.1$|"
   ]
  },
  {
   "cell_type": "code",
   "execution_count": 43,
   "id": "6b9d1b0f",
   "metadata": {},
   "outputs": [],
   "source": [
    "x = [0.0,0.5,1.0,1.5,2.0,2.5,3.0,3.5,4.0,4.5,5.0,5.5,6.0,6.5,7.0,7.5,8.0,8.5,9.0,9.5,10.0]\n",
    "A = [[1, xval, xval**2] for xval in x]\n",
    "c = [2.9,2.7,4.8,5.3,7.1,7.6,7.7,7.6,9.4,9.0,9.6,10.0,10.2,9.7,8.3,8.4,9.0,8.3,6.6,6.7,4.1]"
   ]
  },
  {
   "cell_type": "code",
   "execution_count": 44,
   "id": "ecc74f50",
   "metadata": {},
   "outputs": [
    {
     "name": "stdout",
     "output_type": "stream",
     "text": [
      "[2.1757199322416705, 2.670413385241761, -0.23844393592677351]\n"
     ]
    }
   ],
   "source": [
    "x = least_squares_QR_H(A,c)\n",
    "print(x)"
   ]
  },
  {
   "cell_type": "code",
   "execution_count": 45,
   "id": "610e661b",
   "metadata": {},
   "outputs": [
    {
     "name": "stdout",
     "output_type": "stream",
     "text": [
      "[2.175719932241679, 2.670413385241756, -0.23844393592677304]\n"
     ]
    }
   ],
   "source": [
    "x = least_squares_QR_GS(A,c)\n",
    "print(x)"
   ]
  },
  {
   "cell_type": "code",
   "execution_count": null,
   "id": "dbef308f",
   "metadata": {},
   "outputs": [],
   "source": []
  }
 ],
 "metadata": {
  "kernelspec": {
   "display_name": "Python 3 (ipykernel)",
   "language": "python",
   "name": "python3"
  },
  "language_info": {
   "codemirror_mode": {
    "name": "ipython",
    "version": 3
   },
   "file_extension": ".py",
   "mimetype": "text/x-python",
   "name": "python",
   "nbconvert_exporter": "python",
   "pygments_lexer": "ipython3",
   "version": "3.11.5"
  },
  "toc": {
   "base_numbering": 1,
   "nav_menu": {},
   "number_sections": true,
   "sideBar": true,
   "skip_h1_title": false,
   "title_cell": "Table of Contents",
   "title_sidebar": "Contents",
   "toc_cell": false,
   "toc_position": {},
   "toc_section_display": true,
   "toc_window_display": false
  },
  "varInspector": {
   "cols": {
    "lenName": 16,
    "lenType": 16,
    "lenVar": 40
   },
   "kernels_config": {
    "python": {
     "delete_cmd_postfix": "",
     "delete_cmd_prefix": "del ",
     "library": "var_list.py",
     "varRefreshCmd": "print(var_dic_list())"
    },
    "r": {
     "delete_cmd_postfix": ") ",
     "delete_cmd_prefix": "rm(",
     "library": "var_list.r",
     "varRefreshCmd": "cat(var_dic_list()) "
    }
   },
   "types_to_exclude": [
    "module",
    "function",
    "builtin_function_or_method",
    "instance",
    "_Feature"
   ],
   "window_display": false
  }
 },
 "nbformat": 4,
 "nbformat_minor": 5
}
