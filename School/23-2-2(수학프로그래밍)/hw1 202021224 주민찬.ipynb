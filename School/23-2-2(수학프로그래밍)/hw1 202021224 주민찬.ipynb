{
 "cells": [
  {
   "cell_type": "markdown",
   "id": "7052c3f4",
   "metadata": {},
   "source": [
    "**<span style=\"font-size: 20px; color: blue\">(Problem 1) n진수 변환 ($2\\le n\\le 16,\\ n\\in\\mathbb{N}$) </span>**\n",
    "\n",
    "1) **While문을 이용**하여 입력된 자연수를 n진수로 변환하여 출력하는 함수를 작성하시오.\n",
    "\n",
    "예) <br>\n",
    "base_n(15,2) -> 출력: 1111\n",
    "<br>\n",
    "base_n(165,16) -> 출력: A5"
   ]
  },
  {
   "cell_type": "code",
   "execution_count": 1,
   "id": "3e6597a6",
   "metadata": {},
   "outputs": [],
   "source": [
    "def base_n(a,n):\n",
    "    ls=[]\n",
    "    if a==0:\n",
    "        print(0)\n",
    "    while a!=0:\n",
    "        if a%n<10:\n",
    "            ls.append(a%n)\n",
    "        elif a%n>=10:\n",
    "            ls.append(chr(a%n+55))\n",
    "        a=a//n\n",
    "    for i in range(len(ls)-1,-1,-1):\n",
    "        print(ls[i],end='')"
   ]
  },
  {
   "cell_type": "code",
   "execution_count": 2,
   "id": "bfe40c06",
   "metadata": {},
   "outputs": [
    {
     "name": "stdout",
     "output_type": "stream",
     "text": [
      "1111"
     ]
    }
   ],
   "source": [
    "base_n(15,2)"
   ]
  },
  {
   "cell_type": "markdown",
   "id": "1846e13f",
   "metadata": {},
   "source": [
    "```정답: 1111```"
   ]
  },
  {
   "cell_type": "code",
   "execution_count": 3,
   "id": "91da9255",
   "metadata": {},
   "outputs": [
    {
     "name": "stdout",
     "output_type": "stream",
     "text": [
      "A5"
     ]
    }
   ],
   "source": [
    "base_n(165,16)"
   ]
  },
  {
   "cell_type": "markdown",
   "id": "8745f578",
   "metadata": {},
   "source": [
    "```정답: A5```"
   ]
  },
  {
   "cell_type": "markdown",
   "id": "21012c70",
   "metadata": {},
   "source": [
    "2) 입력된 자연수를 n진수로 변환하여 출력하는 함수를 **재귀 알고리즘**을 이용하여 작성하시오."
   ]
  },
  {
   "cell_type": "code",
   "execution_count": 4,
   "id": "fe8003c1",
   "metadata": {},
   "outputs": [],
   "source": [
    "def base_n2(a,n):\n",
    "    if a==0:\n",
    "        return\n",
    "    base_n2(a//n,n)\n",
    "    if a%n>=10:\n",
    "        return print(chr(a%n+55),end='')\n",
    "    elif a%n<10:\n",
    "        return print(a%n,end='')"
   ]
  },
  {
   "cell_type": "code",
   "execution_count": 5,
   "id": "762ea429",
   "metadata": {},
   "outputs": [
    {
     "name": "stdout",
     "output_type": "stream",
     "text": [
      "1111"
     ]
    }
   ],
   "source": [
    "base_n2(15,2)"
   ]
  },
  {
   "cell_type": "markdown",
   "id": "02587664",
   "metadata": {},
   "source": [
    "```정답: 1111```"
   ]
  },
  {
   "cell_type": "code",
   "execution_count": 6,
   "id": "aac72d82",
   "metadata": {},
   "outputs": [
    {
     "name": "stdout",
     "output_type": "stream",
     "text": [
      "A5"
     ]
    }
   ],
   "source": [
    "base_n2(165,16)"
   ]
  },
  {
   "cell_type": "markdown",
   "id": "78550a2d",
   "metadata": {},
   "source": [
    "```정답: A5```"
   ]
  },
  {
   "cell_type": "markdown",
   "id": "acdf8b39",
   "metadata": {},
   "source": [
    "**<span style=\"font-size: 20px; color: blue\">(Problem 2) 입력된 $n$의 각 자릿수의 합 </span>**\n",
    "\n",
    "1) **While문을 이용**하여 입력된 자연수 n의 각 자릿수의 합을 반환하는 함수를 작성하시오. (print 아님)\n",
    "\n",
    "예) <br>\n",
    "sum_digit(1532) -> 출력: 11"
   ]
  },
  {
   "cell_type": "code",
   "execution_count": 7,
   "id": "1e960f57",
   "metadata": {},
   "outputs": [],
   "source": [
    "def sum_digit(n):\n",
    "    sum=0\n",
    "    while n!=0:\n",
    "        sum+=n%10\n",
    "        n=n//10\n",
    "    return sum\n",
    "\n",
    "def sum_digit_list(n):\n",
    "    return sum(list(map(int,str(n))))"
   ]
  },
  {
   "cell_type": "code",
   "execution_count": 8,
   "id": "5ae06f5a",
   "metadata": {},
   "outputs": [
    {
     "data": {
      "text/plain": [
       "11"
      ]
     },
     "execution_count": 8,
     "metadata": {},
     "output_type": "execute_result"
    }
   ],
   "source": [
    "sum_digit(1532)"
   ]
  },
  {
   "cell_type": "markdown",
   "id": "47edc499",
   "metadata": {},
   "source": [
    "```정답: 11```"
   ]
  },
  {
   "cell_type": "code",
   "execution_count": 9,
   "id": "360bdda1",
   "metadata": {},
   "outputs": [
    {
     "data": {
      "text/plain": [
       "11"
      ]
     },
     "execution_count": 9,
     "metadata": {},
     "output_type": "execute_result"
    }
   ],
   "source": [
    "sum_digit_list(1532)"
   ]
  },
  {
   "cell_type": "markdown",
   "id": "68c215bd",
   "metadata": {},
   "source": [
    "2) 입력된 자연수 n의 각 자릿수의 합을 반환하는 함수를 **재귀 알고리즘**을 이용하여 작성하시오."
   ]
  },
  {
   "cell_type": "code",
   "execution_count": 10,
   "id": "86e84582",
   "metadata": {},
   "outputs": [],
   "source": [
    "def sum_digit2(n):\n",
    "    if n==0:\n",
    "        return 0\n",
    "    else:\n",
    "        return n%10+sum_digit2(n//10)"
   ]
  },
  {
   "cell_type": "code",
   "execution_count": 11,
   "id": "ccb62ea9",
   "metadata": {},
   "outputs": [
    {
     "data": {
      "text/plain": [
       "11"
      ]
     },
     "execution_count": 11,
     "metadata": {},
     "output_type": "execute_result"
    }
   ],
   "source": [
    "sum_digit2(1532)"
   ]
  },
  {
   "cell_type": "markdown",
   "id": "2d0e6cb2",
   "metadata": {},
   "source": [
    "```정답: 11```"
   ]
  },
  {
   "cell_type": "markdown",
   "id": "ae56f984",
   "metadata": {},
   "source": [
    "**<span style=\"font-size: 20px; color: blue\">(Problem 3) 소수 찾기 - 에라토스테네스의 체(Sieve of Eratosthenes)</span>**\n",
    "\n",
    "에라토스테네스의 체는 소수를 찾는 방법이며 다음과 같다.\n",
    "\n",
    "1. 2부터 n까지의 연속된 정수 리스트 [2, 3, 4, ..., n]를 만든다..\n",
    "1. $p = 2$로 선택한다.\n",
    "1. $p$를 제외한 $p$의 배수 $2p, 3p, 4p, ...$를 리스트에서 제거한다.\n",
    "1. 리스트에 남은 수 중 $p$보다 큰 수 중 가장 작은 수를 새로운 $p$로 선택한다. 만약 그런 수가 없다면 함수를 종료한다.\n",
    "1. 3단계를 반복한다.\n",
    "\n",
    "참고로 선택된 $p$가 $p^2 > n$을 만족하면 리스트에 남은 모든 수는 소수이므로 함수를 종료할 수 있다.\n",
    "\n",
    "예) $n = 30$ <br>\n",
    "1단계\n",
    "<br>\n",
    "[2, 3, 4, 5, 6, 7, 8, 9, 10, 11, 12, 13, 14, 15, 16, 17, 18, 19, 20, 21, 22, 23, 24, 25, 26, 27, 28, 29, 30]\n",
    "\n",
    "\n",
    "2단계: $p=2$로 선택 (-> $p$의 배수 체크)\n",
    "<br>\n",
    "[2, 3, **4**, 5, **6**, 7, **8**, 9, **10**, 11, **12**, 13, **14**, 15, **16**, 17, **18**, 19, **20**, 21, **22**, 23, **24**, 25, **26**, 27, **28**, 29, **30**]\n",
    "\n",
    "3단계: $p$의 배수 제거\n",
    "<br>\n",
    "[2, 3, 5, 7, 9, 11, 13, 15, 17, 19, 21, 23, 25, 27, 29]\n",
    "\n",
    "4단계: 2보다 큰 수 중 가장 작은 수인 3을 $p$로 선택 (-> $p$의 배수 체크)\n",
    "<br>\n",
    "[2, 3, 5, 7, **9**, 11, 13, **15**, 17, 19, **21**, 23, 25, **27**, 29]\n",
    "\n",
    "3단계: $p$의 배수 제거\n",
    "<br>\n",
    "[2, 3, 5, 7, 11, 13, 17, 19, 23, 25, 29]\n",
    "\n",
    "4단계: 3보다 큰 수 중 가장 작은 수인 5을 $p$로 선택 (-> $p$의 배수 체크)\n",
    "<br>\n",
    "[2, 3, 5, 7, 11, 13, 17, 19, 23, **25**, 29]\n",
    "\n",
    "3단계: $p$의 배수 제거\n",
    "<br>\n",
    "[2, 3, 5, 7, 11, 13, 17, 19, 23, 29]\n",
    "\n",
    "4단계: 5보다 큰 수 중 가장 작은 수인 7을 $p$로 선택 -> $7^2 > 30$ 이므로 남은 모든 수가 소수이며 함수 종료\n",
    "<br>\n",
    "30 이하의 소수: 2, 3, 5, 7, 11, 13, 17, 19, 23, 29\n",
    "\n",
    "---"
   ]
  },
  {
   "cell_type": "markdown",
   "id": "a2261014",
   "metadata": {},
   "source": [
    "1) 에라토스테네스의 체를 **While문을 이용**하여 리스트를 반환하는 함수로 작성하시오.\n",
    "\n",
    "예) sieve(100)\n",
    "<br>\n",
    "출력: [2, 3, 5, 7, 11, 13, 17, 19, 23, 29, 31, 37, 41, 43, 47, 53, 59, 61, 67, 71, 73, 79, 83, 89, 97]"
   ]
  },
  {
   "cell_type": "code",
   "execution_count": 12,
   "id": "f9660a8f",
   "metadata": {},
   "outputs": [],
   "source": [
    "from math import sqrt\n",
    "def sieve(n):\n",
    "    lp=[i for i in range(2,n+1)]\n",
    "    k=0\n",
    "    p=lp[k]\n",
    "    while p*p<=n:\n",
    "        k+=1\n",
    "        for i in lp[k:]:\n",
    "            if i%p==0:\n",
    "                lp.remove(i)\n",
    "        p=lp[k]\n",
    "    return lp"
   ]
  },
  {
   "cell_type": "code",
   "execution_count": 13,
   "id": "c59f453e",
   "metadata": {},
   "outputs": [
    {
     "name": "stdout",
     "output_type": "stream",
     "text": [
      "[2, 3, 5, 7, 11, 13, 17, 19, 23, 29, 31, 37, 41, 43, 47, 53, 59, 61, 67, 71, 73, 79, 83, 89, 97]\n"
     ]
    }
   ],
   "source": [
    "print(sieve(100))"
   ]
  },
  {
   "cell_type": "markdown",
   "id": "f572953d",
   "metadata": {},
   "source": [
    "```정답: [2, 3, 5, 7, 11, 13, 17, 19, 23, 29, 31, 37, 41, 43, 47, 53, 59, 61, 67, 71, 73, 79, 83, 89, 97]```"
   ]
  },
  {
   "cell_type": "code",
   "execution_count": 192,
   "id": "c5dd6213",
   "metadata": {},
   "outputs": [
    {
     "name": "stdout",
     "output_type": "stream",
     "text": [
      "0.65915 sec\n"
     ]
    }
   ],
   "source": [
    "# 시간 측정\n",
    "import time\n",
    "start = time.time()\n",
    "sieve(10000)\n",
    "end = time.time()\n",
    "\n",
    "print(f\"{end - start:.5f} sec\")"
   ]
  },
  {
   "cell_type": "markdown",
   "id": "d3c9d62b",
   "metadata": {},
   "source": [
    "2) 에라토스테네스의 체를 **재귀 알고리즘**을 이용하여 리스트를 반환하는 함수로 작성하시오."
   ]
  },
  {
   "cell_type": "code",
   "execution_count": 14,
   "id": "c11d878d",
   "metadata": {},
   "outputs": [],
   "source": [
    "def primes(n):\n",
    "    lp=[i for i in range(2,n+1)]\n",
    "    k,p=0,lp[0]\n",
    "    def loop(k,p):\n",
    "        for i in lp[k+1:]:\n",
    "            if i%p==0:\n",
    "                lp.remove(i)\n",
    "        if p*p>n:\n",
    "            return lp\n",
    "        else:\n",
    "            k+=1\n",
    "            p=lp[k]\n",
    "            return loop(k,p)\n",
    "    return loop(k,p)"
   ]
  },
  {
   "cell_type": "code",
   "execution_count": 15,
   "id": "7d67f32d",
   "metadata": {},
   "outputs": [
    {
     "name": "stdout",
     "output_type": "stream",
     "text": [
      "[2, 3, 5, 7, 11, 13, 17, 19, 23, 29, 31, 37, 41, 43, 47, 53, 59, 61, 67, 71, 73, 79, 83, 89, 97]\n"
     ]
    }
   ],
   "source": [
    "print(primes(100))"
   ]
  },
  {
   "cell_type": "markdown",
   "id": "54453480",
   "metadata": {},
   "source": [
    "```정답: [2, 3, 5, 7, 11, 13, 17, 19, 23, 29, 31, 37, 41, 43, 47, 53, 59, 61, 67, 71, 73, 79, 83, 89, 97]```"
   ]
  },
  {
   "cell_type": "code",
   "execution_count": 191,
   "id": "d58e300a",
   "metadata": {},
   "outputs": [
    {
     "name": "stdout",
     "output_type": "stream",
     "text": [
      "0.73145 sec\n"
     ]
    }
   ],
   "source": [
    "# 시간 측정\n",
    "import time\n",
    "start = time.time()\n",
    "primes(10000)\n",
    "end = time.time()\n",
    "\n",
    "print(f\"{end - start:.5f} sec\")"
   ]
  },
  {
   "cell_type": "code",
   "execution_count": null,
   "id": "9779d950",
   "metadata": {},
   "outputs": [],
   "source": []
  }
 ],
 "metadata": {
  "kernelspec": {
   "display_name": "Python 3 (ipykernel)",
   "language": "python",
   "name": "python3"
  },
  "language_info": {
   "codemirror_mode": {
    "name": "ipython",
    "version": 3
   },
   "file_extension": ".py",
   "mimetype": "text/x-python",
   "name": "python",
   "nbconvert_exporter": "python",
   "pygments_lexer": "ipython3",
   "version": "3.11.4"
  },
  "toc": {
   "base_numbering": 1,
   "nav_menu": {},
   "number_sections": true,
   "sideBar": true,
   "skip_h1_title": false,
   "title_cell": "Table of Contents",
   "title_sidebar": "Contents",
   "toc_cell": false,
   "toc_position": {},
   "toc_section_display": true,
   "toc_window_display": false
  },
  "varInspector": {
   "cols": {
    "lenName": 16,
    "lenType": 16,
    "lenVar": 40
   },
   "kernels_config": {
    "python": {
     "delete_cmd_postfix": "",
     "delete_cmd_prefix": "del ",
     "library": "var_list.py",
     "varRefreshCmd": "print(var_dic_list())"
    },
    "r": {
     "delete_cmd_postfix": ") ",
     "delete_cmd_prefix": "rm(",
     "library": "var_list.r",
     "varRefreshCmd": "cat(var_dic_list()) "
    }
   },
   "types_to_exclude": [
    "module",
    "function",
    "builtin_function_or_method",
    "instance",
    "_Feature"
   ],
   "window_display": false
  }
 },
 "nbformat": 4,
 "nbformat_minor": 5
}
