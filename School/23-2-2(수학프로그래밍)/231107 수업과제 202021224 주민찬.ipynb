{
 "cells": [
  {
   "cell_type": "markdown",
   "metadata": {},
   "source": [
    "## 비례 조정 부분 피벗팅"
   ]
  },
  {
   "cell_type": "markdown",
   "metadata": {},
   "source": [
    "1. 행렬 A를 입력 받아 비례 조정 부분 피벗팅을 이용하여 구하는 SPP_Gauss()를 정의하시오.\n",
    "    - 입력된 A가 행렬이 아닌 경우 \"A는 행렬이 아닙니다.\"를 출력하시오.\n",
    "    - 입력된 A가 정사각 행렬이 아닌 경우 \"A는 정사각 행렬이 아닙니다.\"를 출력하시오."
   ]
  },
  {
   "cell_type": "code",
   "execution_count": 1,
   "metadata": {},
   "outputs": [],
   "source": [
    "def is_matrix(A):\n",
    "    m = len(A)\n",
    "    if m==0:\n",
    "        return (0,0)\n",
    "    n = len(A[0])\n",
    "    for i in range(1,m):\n",
    "        if len(A[i]) != n:\n",
    "            return (0,0)\n",
    "    return (m,n)"
   ]
  },
  {
   "cell_type": "code",
   "execution_count": 2,
   "metadata": {},
   "outputs": [],
   "source": [
    "def SPP_Gauss(A):\n",
    "    mA, nA = is_matrix(A)\n",
    "    if mA == 0:\n",
    "        print(\"A는 행렬이 아닙니다.\")\n",
    "        return\n",
    "    if mA != nA:\n",
    "        print(\"A는 정사각 행렬이 아닙니다.\")\n",
    "        return\n",
    "    \n",
    "    l = [0 for i in range(mA)]\n",
    "    s = [0 for i in range(mA)]\n",
    "    for i in range(mA):\n",
    "        l[i] = i\n",
    "        smax = 0\n",
    "        for j in range(mA):\n",
    "            smax = max(smax, abs(A[i][j]))\n",
    "        s[i] = smax\n",
    "    \n",
    "    for k in range(mA-1):\n",
    "        rmax=0\n",
    "        for i in range(k,mA):\n",
    "            r = abs(A[l[i]][k]/s[l[i]])\n",
    "            if r > rmax:\n",
    "                rmax = r\n",
    "                j = i\n",
    "        l[j],l[k]=l[k],l[j]\n",
    "        for i in range(k+1,mA):\n",
    "            xmult = A[l[i]][k]/A[l[k]][k]\n",
    "            A[l[i]][k] = xmult\n",
    "            for j in range(k+1,mA):\n",
    "                A[l[i]][j] -= xmult*A[l[k]][j]\n",
    "\n",
    "    return l"
   ]
  },
  {
   "cell_type": "code",
   "execution_count": 3,
   "metadata": {},
   "outputs": [
    {
     "data": {
      "text/plain": [
       "[2, 0, 1, 3]"
      ]
     },
     "execution_count": 3,
     "metadata": {},
     "output_type": "execute_result"
    }
   ],
   "source": [
    "A = [[3,-13,9,3],[-6,4,1,-18],[6,-2,2,4],[12,-8,6,10]]\n",
    "SPP_Gauss(A)"
   ]
  },
  {
   "cell_type": "markdown",
   "metadata": {},
   "source": [
    "2. SPP_Gauss()의 출력값인 Index vector와 A가 변환된 행렬을 이용하여 x를 구하시오."
   ]
  },
  {
   "cell_type": "code",
   "execution_count": 4,
   "metadata": {},
   "outputs": [
    {
     "name": "stdout",
     "output_type": "stream",
     "text": [
      "[2, 0, 1, 3]\n",
      "[[0.5, -12.0, 8.0, 1.0], [-1.0, -0.16666666666666666, 4.333333333333333, -13.833333333333334], [6, -2, 2, 4], [2.0, 0.3333333333333333, -0.15384615384615383, -0.46153846153846145]]\n"
     ]
    }
   ],
   "source": [
    "A = [[3,-13,9,3],[-6,4,1,-18],[6,-2,2,4],[12,-8,6,10]]\n",
    "b = [-19,-34,16,26]\n",
    "l=SPP_Gauss(A)\n",
    "print(l)\n",
    "print(A)"
   ]
  },
  {
   "cell_type": "code",
   "execution_count": 5,
   "metadata": {},
   "outputs": [
    {
     "name": "stdout",
     "output_type": "stream",
     "text": [
      "[3.0000000000000013, 0.9999999999999991, -2.0000000000000013, 0.9999999999999996]\n"
     ]
    }
   ],
   "source": [
    "n = len(A)\n",
    "for k in range(n-1):\n",
    "    for i in range(k+1,n):\n",
    "        b[l[i]] -= A[l[i]][k]*b[l[k]]\n",
    "\n",
    "x = [0 for i in range(n)]\n",
    "x[-1] = b[l[-1]]/A[l[-1]][-1]\n",
    "for i in range(n-2,-1,-1):\n",
    "    sum = b[l[i]]\n",
    "    for j in range(i+1,n):\n",
    "        sum -= A[l[i]][j]*x[j]\n",
    "    x[i] = sum/A[l[i]][i]\n",
    "\n",
    "print(x)"
   ]
  },
  {
   "cell_type": "code",
   "execution_count": null,
   "metadata": {},
   "outputs": [],
   "source": []
  }
 ],
 "metadata": {
  "kernelspec": {
   "display_name": "mp",
   "language": "python",
   "name": "mp"
  },
  "language_info": {
   "codemirror_mode": {
    "name": "ipython",
    "version": 3
   },
   "file_extension": ".py",
   "mimetype": "text/x-python",
   "name": "python",
   "nbconvert_exporter": "python",
   "pygments_lexer": "ipython3",
   "version": "3.11.5"
  }
 },
 "nbformat": 4,
 "nbformat_minor": 2
}
