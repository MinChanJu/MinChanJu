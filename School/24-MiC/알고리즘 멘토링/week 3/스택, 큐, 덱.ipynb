{
 "cells": [
  {
   "cell_type": "markdown",
   "metadata": {},
   "source": [
    "# Stack"
   ]
  },
  {
   "cell_type": "code",
   "execution_count": 4,
   "metadata": {},
   "outputs": [
    {
     "name": "stdout",
     "output_type": "stream",
     "text": [
      "[1, 2, 3, 4]\n",
      "[1, 2, 3, 4, 4]\n",
      "[1, 2, 3, 4]\n",
      "[1, 2, 3]\n",
      "[1, 2, 3, -2]\n"
     ]
    }
   ],
   "source": [
    "ls = [1,2,3,4]\n",
    "print(ls)\n",
    "\n",
    "ls.append(4)\n",
    "print(ls)\n",
    "\n",
    "ls.pop()\n",
    "print(ls)\n",
    "\n",
    "ls.pop()\n",
    "print(ls)\n",
    "\n",
    "ls.append(-2)\n",
    "print(ls)"
   ]
  },
  {
   "cell_type": "code",
   "execution_count": 6,
   "metadata": {},
   "outputs": [
    {
     "name": "stdout",
     "output_type": "stream",
     "text": [
      "deque([1, 2, 3, 4])\n",
      "deque([1, 2, 3, 4, 4])\n",
      "deque([2, 3, 4, 4])\n",
      "deque([3, 4, 4])\n",
      "deque([3, 4, 4, -2])\n"
     ]
    }
   ],
   "source": [
    "from collections import deque\n",
    "\n",
    "ls = deque([1,2,3,4])\n",
    "print(ls)\n",
    "\n",
    "ls.append(4)\n",
    "print(ls)\n",
    "\n",
    "ls.popleft()\n",
    "print(ls)\n",
    "\n",
    "ls.popleft()\n",
    "print(ls)\n",
    "\n",
    "ls.append(-2)\n",
    "print(ls)"
   ]
  },
  {
   "cell_type": "code",
   "execution_count": 7,
   "metadata": {},
   "outputs": [
    {
     "name": "stdout",
     "output_type": "stream",
     "text": [
      "deque([1, 2, 3, 4])\n",
      "deque([1, 2, 3, 4, 4])\n",
      "deque([2, 3, 4, 4])\n",
      "deque([9, 2, 3, 4, 4])\n",
      "deque([9, 2, 3, 4])\n"
     ]
    }
   ],
   "source": [
    "from collections import deque\n",
    "\n",
    "ls = deque([1,2,3,4])\n",
    "print(ls)\n",
    "\n",
    "ls.append(4)\n",
    "print(ls)\n",
    "\n",
    "ls.popleft()\n",
    "print(ls)\n",
    "\n",
    "ls.appendleft(9)\n",
    "print(ls)\n",
    "\n",
    "ls.pop()\n",
    "print(ls)"
   ]
  },
  {
   "cell_type": "code",
   "execution_count": null,
   "metadata": {},
   "outputs": [],
   "source": []
  }
 ],
 "metadata": {
  "kernelspec": {
   "display_name": "base",
   "language": "python",
   "name": "python3"
  },
  "language_info": {
   "codemirror_mode": {
    "name": "ipython",
    "version": 3
   },
   "file_extension": ".py",
   "mimetype": "text/x-python",
   "name": "python",
   "nbconvert_exporter": "python",
   "pygments_lexer": "ipython3",
   "version": "3.8.8"
  }
 },
 "nbformat": 4,
 "nbformat_minor": 2
}
