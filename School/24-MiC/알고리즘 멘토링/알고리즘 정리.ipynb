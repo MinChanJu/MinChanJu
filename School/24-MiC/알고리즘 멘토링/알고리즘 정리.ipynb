{
 "cells": [
  {
   "cell_type": "markdown",
   "metadata": {},
   "source": [
    "# 알고리즘 정리 ICPC - WCDI"
   ]
  },
  {
   "cell_type": "markdown",
   "metadata": {},
   "source": [
    "## Brute Force\n",
    "- 모든 경우의 수를 체크해서 답을 결정\n",
    "- 효율은 생각하지 않는다.\n",
    "- 브루트 포스\n",
    "- 시간복잡도: $O(n^k)$"
   ]
  },
  {
   "cell_type": "code",
   "execution_count": null,
   "metadata": {},
   "outputs": [],
   "source": [
    "# 예제 골드바흐 파티션: 2보다 큰 짝수는 두 소수의 합으로 나타낼 수 있다.\n",
    "def gold(n):\n",
    "    ls=[1]*(n+1)\n",
    "    prime=[]\n",
    "    for i in range(2,n):\n",
    "        if ls[i]:\n",
    "            prime.append(i)\n",
    "            for j in range(2*i,n+1,i):\n",
    "                ls[j]=0\n",
    "    count=0\n",
    "    for i in prime:\n",
    "        if i>n//2:\n",
    "            print(count)\n",
    "            break\n",
    "        elif ls[n-i]:\n",
    "            count+=1\n",
    "    return count"
   ]
  },
  {
   "cell_type": "markdown",
   "metadata": {},
   "source": [
    "## Binary Search\n",
    "- 반으로 쪼개 가며 탐색하는 알고리즘\n",
    "- 정렬된 상태에서만 가능\n",
    "- 이분 탐색\n",
    "- 시간복잡도: $O(logn)$"
   ]
  },
  {
   "cell_type": "code",
   "execution_count": null,
   "metadata": {},
   "outputs": [],
   "source": [
    "def binary_search(n_list,target):\n",
    "    s=0\n",
    "    e=len(n_list)-1\n",
    "    while s<=e:\n",
    "        mid=(s+e)//2\n",
    "        if target==n_list[mid]:\n",
    "            return mid\n",
    "        elif target>n_list[mid]:\n",
    "            s=mid+1\n",
    "        else:\n",
    "            e=mid-1\n",
    "    return None"
   ]
  },
  {
   "cell_type": "markdown",
   "metadata": {},
   "source": [
    "## Parametric Search\n",
    "- 반으로 쪼개 가며 탐색하는 알고리즘\n",
    "- 정렬된 상태에서만 가능\n",
    "- Binary Search와 다른점은 원소들이 중복이 될 수 있다.\n",
    "- 매개변수 탐색\n",
    "- 시간복잡도: $O(k^n)$"
   ]
  },
  {
   "cell_type": "code",
   "execution_count": null,
   "metadata": {},
   "outputs": [],
   "source": [
    "def parametric_search(n_list,target):           # 중복된 target중 최대값\n",
    "    s=0\n",
    "    e=len(n_list)-1\n",
    "    while s<=e:\n",
    "        mid=(s+e)//2\n",
    "        if target>=n_list[mid]:\n",
    "            s=mid+1\n",
    "        else:\n",
    "            e=mid-1\n",
    "    return e"
   ]
  },
  {
   "cell_type": "code",
   "execution_count": null,
   "metadata": {},
   "outputs": [],
   "source": [
    "def parametric_search(n_list,target):           # 중복된 target중 최소값\n",
    "    s=0\n",
    "    e=len(n_list)-1\n",
    "    while s<=e:\n",
    "        mid=(s+e)//2\n",
    "        if target>n_list[mid]:\n",
    "            s=mid+1\n",
    "        else:\n",
    "            e=mid-1\n",
    "    return s"
   ]
  },
  {
   "cell_type": "markdown",
   "metadata": {},
   "source": [
    "## Two Pointer\n",
    "- 리스트에 순차적으로 접근해야 할 때 두 개의 점의 위치를 기록하면서 처리하는 알고리즘\n",
    "- 정렬된 상태에서만 가능\n",
    "- Binary Search와 유사\n",
    "- 투 포인터\n",
    "- 시간복잡도: $O(n)$"
   ]
  },
  {
   "cell_type": "code",
   "execution_count": null,
   "metadata": {},
   "outputs": [],
   "source": [
    "def two_pointer(x,n_list,n):\n",
    "    count = 0\n",
    "    s = 0\n",
    "    e = n-1\n",
    "    while s<e:\n",
    "        SUM = n_list[s] + n_list[e]\n",
    "        if SUM == x:\n",
    "            count += 1\n",
    "            s += 1\n",
    "        elif SUM > x:\n",
    "            e -= 1\n",
    "        elif SUM < x:\n",
    "            s += 1\n",
    "    return count"
   ]
  },
  {
   "cell_type": "code",
   "execution_count": null,
   "metadata": {},
   "outputs": [],
   "source": [
    "def two_pointer(k,n_list,n):\n",
    "    count = 0\n",
    "    s = 0\n",
    "    e = 0\n",
    "    SUM = n_list[0]\n",
    "    while e<n and s<=e:\n",
    "        if SUM == k:\n",
    "            count += 1\n",
    "            e += 1\n",
    "            if e < n:\n",
    "                SUM += n_list[e]\n",
    "        elif SUM > k:\n",
    "            SUM -= n_list[s]\n",
    "            s += 1\n",
    "        elif SUM < k:\n",
    "            e += 1\n",
    "            if e < n:\n",
    "                SUM += n_list[e]\n",
    "    return count"
   ]
  },
  {
   "cell_type": "markdown",
   "metadata": {},
   "source": [
    "## BFS\n",
    "- queue\n",
    "- 너비 우선 탐색\n",
    "- 시간복잡도: $O(V+E)$"
   ]
  },
  {
   "cell_type": "code",
   "execution_count": 1,
   "metadata": {},
   "outputs": [],
   "source": [
    "from collections import deque\n",
    "\n",
    "def bfs(start,graph,target,N):\n",
    "    visit = [0 for _ in range(N)]\n",
    "    queue = deque()\n",
    "    queue.append(start)\n",
    "    while queue:\n",
    "        node = queue.popleft()\n",
    "        if node == target:\n",
    "            return node\n",
    "        elif visit[node]==0:\n",
    "            visit[node]=1\n",
    "            for n_node in graph[node]:\n",
    "                if visit[n_node]==0:\n",
    "                    queue.append(n_node)\n",
    "    return visit"
   ]
  },
  {
   "cell_type": "markdown",
   "metadata": {},
   "source": [
    "## DFS\n",
    "- stack\n",
    "- 깊이 우선 탐색\n",
    "- 시간복잡도: $O(V+E)$"
   ]
  },
  {
   "cell_type": "code",
   "execution_count": 2,
   "metadata": {},
   "outputs": [],
   "source": [
    "def dfs(start,graph,target,N):\n",
    "    visit = [0 for _ in range(N)]\n",
    "    stack=[start]\n",
    "    while stack:\n",
    "        node = stack.pop()\n",
    "        if node == target:\n",
    "            return node\n",
    "        elif visit[node] == 0:\n",
    "            visit[node] = 1\n",
    "            for n_node in graph[node]:\n",
    "                if visit[n_node]==0:\n",
    "                    stack.append(n_node)\n",
    "    return visit"
   ]
  },
  {
   "cell_type": "markdown",
   "metadata": {},
   "source": [
    "## Prim\n",
    "- 가중치가 있는 그래프의 모든 정점을 포함하면서 각 변의 비용의 합이 최소가 되는 부분 그래프인 트리, 즉 MST를 찾는 알고리즘\n",
    "- Minimum Spanning Tree\n",
    "- BFS, DFS와 유사\n",
    "- 프림 알고리즘\n",
    "- 시간복잡도: $O(ElogV)$"
   ]
  },
  {
   "cell_type": "code",
   "execution_count": null,
   "metadata": {},
   "outputs": [],
   "source": [
    "import heapq\n",
    "\n",
    "def prim(graph, start):\n",
    "    mst = []\n",
    "    visit = set([start])\n",
    "    edges = [(weight, start, v) for v, weight in graph[start]]\n",
    "    heapq.heapify(edges)\n",
    "    while edges:\n",
    "        weight, u, v = heapq.heappop(edges)\n",
    "        if v not in visit:\n",
    "            visit.add(v)\n",
    "            mst.append((u, v, weight))\n",
    "            for next_vertex, weight in graph[v]:\n",
    "                if next_vertex not in visit:\n",
    "                    heapq.heappush(edges, (weight, v, next_vertex))\n",
    "    return mst"
   ]
  },
  {
   "cell_type": "markdown",
   "metadata": {},
   "source": [
    "## Dikstra\n",
    "- 최단거리 알고리즘\n",
    "- heapq\n",
    "- 다익스트라\n",
    "- 시간복잡도: $O((V+E)logV)$"
   ]
  },
  {
   "cell_type": "code",
   "execution_count": 3,
   "metadata": {},
   "outputs": [],
   "source": [
    "import heapq\n",
    "\n",
    "def dikstra(start,graph,end,N):\n",
    "    diatance = [float(\"inf\")]*(N+1)   # 최대 거리로 초기화\n",
    "    diatance[start] = 0\n",
    "    heap = []\n",
    "    heapq.heappush(heap,(0,start))\n",
    "    while heap:\n",
    "        cost, node = heapq.heappop(heap)\n",
    "        if diatance[node] < cost:\n",
    "            continue\n",
    "        for dis, n_node in graph[node]:\n",
    "            if dis+cost < diatance[n_node]:\n",
    "                diatance[n_node]=dis+cost\n",
    "                heapq.heappush(heap,(dis+cost,n_node))\n",
    "    return diatance[end]"
   ]
  },
  {
   "cell_type": "markdown",
   "metadata": {},
   "source": [
    "## BellmanFord\n",
    "- 음의 간선이 존재하는 최단거리 알고리즘\n",
    "- 벨만포드\n",
    "- 시간복잡도: $O(VE)$"
   ]
  },
  {
   "cell_type": "code",
   "execution_count": 4,
   "metadata": {},
   "outputs": [],
   "source": [
    "def bellmanford(start,edge_list,end,N):\n",
    "    visit = [float(\"inf\") for _ in range(N+2)]\n",
    "    visit[start]=0\n",
    "    for _ in range(N-1):\n",
    "        for u,v,w in edge_list:\n",
    "            if visit[u] != float(\"inf\") and visit[u]+w < visit[v]:\n",
    "                visit[v] = visit[u]+w\n",
    "    cycle=0\n",
    "    for u,v,w in edge_list:                                         # 음의 사이클이 존재하는지 확인 존재한다면 무한으로 작아진다.\n",
    "        if visit[u] != float(\"inf\") and visit[u]+w < visit[v]:\n",
    "            cycle=1\n",
    "            return cycle\n",
    "    if cycle == 0:\n",
    "        return visit"
   ]
  },
  {
   "cell_type": "markdown",
   "metadata": {},
   "source": [
    "## Floyd-Warshall\n",
    "- 변의 가중치가 음이거나 양인 (음수 사이클은 없는) 가중 그래프에서 최단 경로들을 찾는 알고리즘\n",
    "- DP와 유사\n",
    "- 플로이드-워셜\n",
    "- 시간복잡도: $O(V^3)$"
   ]
  },
  {
   "cell_type": "code",
   "execution_count": null,
   "metadata": {},
   "outputs": [],
   "source": [
    "import heapq\n",
    "\n",
    "def Floyd(graph,V):\n",
    "    for i in range(1,V+1):\n",
    "        for j in range(1,V+1):\n",
    "            for k in range(1,V+1):\n",
    "                graph[i][j]=min(graph[i][j], graph[i][k]+graph[k][j])\n",
    "\n",
    "    Min = float(\"inf\")\n",
    "    for i in range(1,V+1):\n",
    "        Min = min(Min,graph[i][i])\n",
    "        \n",
    "    if Min == float(\"inf\"):\n",
    "        return -1\n",
    "    else:\n",
    "        return Min"
   ]
  },
  {
   "cell_type": "markdown",
   "metadata": {},
   "source": [
    "## Dynamic Programmings (DP)\n",
    "- 큰 문제를 쪼개 답을 저장하고 재활용하는 알고리즘 \n",
    "- ex) 점화식\n",
    "- 동적계획법\n",
    "- 시간복잡도: $O(n)$"
   ]
  },
  {
   "cell_type": "code",
   "execution_count": 8,
   "metadata": {},
   "outputs": [],
   "source": [
    "def dynamic_programming(n_list, N):\n",
    "    dp=[0 for i in range(N+1)]                                  # 2,3차원에서도 적용 가능\n",
    "    dp[1]=n_list[0]\n",
    "    for i in range(3,N+1):\n",
    "        dp[i]=max(dp[i-2],dp[i-3]+n_list[i-2])+n_list[i-1]\n",
    "    return dp[N]"
   ]
  },
  {
   "cell_type": "markdown",
   "metadata": {},
   "source": [
    "## 분할 정복\n",
    "- 작은 문제로 분할하여 문제를 해결하는 알고리즘\n",
    "- ex) 병합정렬, 퀵정렬\n",
    "- DP와 유사\n",
    "- 재귀함수\n",
    "- 시간복잡도: $O(nlogn)$"
   ]
  },
  {
   "cell_type": "code",
   "execution_count": 9,
   "metadata": {},
   "outputs": [],
   "source": [
    "def quadtree(A,N,color1=0,color2=0):\n",
    "    s=0\n",
    "    for i in range(N):\n",
    "        for j in range(N):\n",
    "            if i==0 and j==0:\n",
    "                k=A[0][0]\n",
    "            elif A[i][j]!=k:\n",
    "                s=1\n",
    "    if s==0:\n",
    "        if k==1:\n",
    "            color1+=1\n",
    "        else:\n",
    "            color2+=1\n",
    "    elif s==1:\n",
    "        a=[[A[j][i] for i in range(N//2)] for j in range(N//2)]\n",
    "        b=[[A[j][i] for i in range(N//2,N)] for j in range(N//2)]\n",
    "        c=[[A[j][i] for i in range(N//2)] for j in range(N//2,N)]\n",
    "        d=[[A[j][i] for i in range(N//2,N)] for j in range(N//2,N)]\n",
    "        quadtree(a)\n",
    "        quadtree(b)\n",
    "        quadtree(c)\n",
    "        quadtree(d)"
   ]
  },
  {
   "cell_type": "markdown",
   "metadata": {},
   "source": [
    "## 누적 합\n",
    "- $a_i$부터 $a_j$까지 합을 N번 계산하는 알고리즘 ($i<=j$)\n",
    "- ex) $a_2$부터 $a_5$까지 합은 S[6]-S[2]\n",
    "- DP와 유사\n",
    "- Prefix Sum\n",
    "- 시간복잡도: $O(n)$\n"
   ]
  },
  {
   "cell_type": "code",
   "execution_count": 10,
   "metadata": {},
   "outputs": [],
   "source": [
    "def prefix_sum(A,N):\n",
    "    A = [0]+A\n",
    "    S = [0 for i in range(N+1)]\n",
    "    for i in range(1,N+1):\n",
    "        S[i]=S[i-1]+A[i]\n",
    "    return S"
   ]
  },
  {
   "cell_type": "markdown",
   "metadata": {},
   "source": [
    "## Union-Find\n",
    "- 서로 다른 두 개의 집합을 병합하는 Union 연산\n",
    "- 집합의 원소가 어떠한 집합에 속해있는지 판단하는 Find 연산\n",
    "- 유니온 파인드\n",
    "- 시간복잡도: $O(\\alpha(N))\\approx O(1)$ &nbsp;&nbsp;&nbsp;&nbsp;&nbsp;&nbsp;&nbsp;&nbsp; $\\alpha(N) :$ 애커만 함수의 역함수\n",
    "    - $1 \\leq N < 3$ &nbsp;&nbsp;&nbsp;&nbsp;&nbsp;&nbsp;&nbsp;&nbsp;&nbsp;&nbsp;&nbsp;&nbsp;&nbsp;&nbsp;&nbsp;&nbsp;:&nbsp;&nbsp; $\\alpha(N) = 1$\n",
    "    - $3 \\leq N < 7$ &nbsp;&nbsp;&nbsp;&nbsp;&nbsp;&nbsp;&nbsp;&nbsp;&nbsp;&nbsp;&nbsp;&nbsp;&nbsp;&nbsp;&nbsp;&nbsp;:&nbsp;&nbsp; $\\alpha(N) = 2$\n",
    "    - $7 \\leq N < 63$ &nbsp;&nbsp;&nbsp;&nbsp;&nbsp;&nbsp;&nbsp;&nbsp;&nbsp;&nbsp;&nbsp;&nbsp;&nbsp;&nbsp;:&nbsp;&nbsp; $\\alpha(N) = 3$\n",
    "    - $63 \\leq N < 2^{2^{2^{2^{2^{2^{2}}}}}}$ &nbsp;&nbsp;&nbsp;&nbsp;&nbsp;:&nbsp;&nbsp; $\\alpha(N) = 4$"
   ]
  },
  {
   "cell_type": "code",
   "execution_count": 1,
   "metadata": {},
   "outputs": [],
   "source": [
    "def union_find(n):\n",
    "    parent = list(range(n))\n",
    "    rank = [0]*n\n",
    "\n",
    "    def find(x):\n",
    "        if x != parent[x]:\n",
    "            parent[x] = find(parent[x])\n",
    "        \n",
    "        return parent[x]\n",
    "    \n",
    "    def union(x,y):\n",
    "        x_root = find(x)\n",
    "        y_root = find(y)\n",
    "\n",
    "        if x_root != y_root:\n",
    "            if rank[x_root] < rank[y_root]:\n",
    "                parent[x_root] = y_root             # rank가 더 높은 root에 붙이기\n",
    "            elif rank[x_root] > rank[y_root]:\n",
    "                parent[y_root] = x_root\n",
    "            else:\n",
    "                parent[x_root] = y_root\n",
    "                rank[x_root] += 1\n",
    "\n",
    "    return find, union"
   ]
  },
  {
   "cell_type": "markdown",
   "metadata": {},
   "source": [
    "## Segment Tree\n",
    "\n",
    "- 자료가 변경되면서 구간합을 구하는 문제\n",
    "- Segment Tree를 만드는 연산 (합, 곱)\n",
    "- 자료를 바꾸는 연산 (합, 곱)\n",
    "- 구간합을 구하는 연산 (합, 곱)\n",
    "- 세그먼트 트리\n",
    "- 시간복잡도: $O(logn)$"
   ]
  },
  {
   "cell_type": "markdown",
   "metadata": {},
   "source": [
    "### > 합"
   ]
  },
  {
   "cell_type": "code",
   "execution_count": null,
   "metadata": {},
   "outputs": [],
   "source": [
    "def make_segment_sum(tree,ls,s,e,node):\n",
    "    if s == e:\n",
    "        tree[node] = ls[s]\n",
    "        return tree[node]\n",
    "    mid = (s+e)//2\n",
    "    tree[node] = make_segment_sum(tree,ls,s,mid,node*2) + make_segment_sum(tree,ls,mid+1,e,node*2+1)\n",
    "    return tree[node]\n",
    "\n",
    "def segment_change_sum(tree,s,e,node,i,j):\n",
    "    if i < s or e < i: return\n",
    "    if s == e:\n",
    "        tree[node] = j\n",
    "        return\n",
    "    mid = (s+e)//2\n",
    "    segment_change_sum(tree,s,mid,node*2,i,j)\n",
    "    segment_change_sum(tree,mid+1,e,node*2+1,i,j)\n",
    "    tree[node] = tree[node*2] + tree[node*2+1]\n",
    "    return\n",
    "\n",
    "def segment_sum(tree,s,e,node,i,j):\n",
    "    if j < s or e < i: return 0\n",
    "    if i <= s and e <= j: return tree[node]\n",
    "    mid = (s+e)//2\n",
    "    return segment_sum(tree,s,mid,node*2,i,j) + segment_sum(tree,mid +1,e,node*2+1,i,j)"
   ]
  },
  {
   "cell_type": "markdown",
   "metadata": {},
   "source": [
    "### > 곱"
   ]
  },
  {
   "cell_type": "code",
   "execution_count": null,
   "metadata": {},
   "outputs": [],
   "source": [
    "def make_segment_mult(tree,ls,s,e,node):\n",
    "    if s == e:\n",
    "        tree[node] = ls[s]\n",
    "        return tree[node]\n",
    "    mid = (s+e)//2\n",
    "    tree[node] = make_segment_mult(tree,ls,s,mid,node*2) * make_segment_mult(tree,ls,mid+1,e,node*2+1)\n",
    "    return tree[node]\n",
    "\n",
    "def segment_change_mult(tree,s,e,node,i,j):\n",
    "    if i < s or e < i: return\n",
    "    if s == e:\n",
    "        tree[node] = j\n",
    "        return\n",
    "    mid = (s+e)//2\n",
    "    segment_change_mult(tree,s,mid,node*2,i,j)\n",
    "    segment_change_mult(tree,mid+1,e,node*2+1,i,j)\n",
    "    tree[node] = tree[node*2] * tree[node*2+1]\n",
    "    return\n",
    "\n",
    "def segment_mult(tree,s,e,node,i,j):\n",
    "    if j < s or e < i: return 1\n",
    "    if i <= s and e <= j: return tree[node]\n",
    "    mid = (s+e)//2\n",
    "    return segment_mult(tree,s,mid,node*2,i,j) * segment_mult(tree,mid +1,e,node*2+1,i,j)"
   ]
  },
  {
   "cell_type": "markdown",
   "metadata": {},
   "source": [
    "## KMP 알고리즘\n",
    "\n",
    "- 문자열에서 패턴을 찾는 알고리즘\n",
    "- prefix table를 만드는 연산\n",
    "- 패턴을 찾는 연산\n",
    "- 커누스-모리스-프랫 알고리즘\n",
    "- 시간복잡도: $O(n+m)$\n",
    "    - $n$: len(text)\n",
    "    - $m$: len(pattern)"
   ]
  },
  {
   "cell_type": "code",
   "execution_count": 2,
   "metadata": {},
   "outputs": [],
   "source": [
    "def build_prefix_table(pattern):\n",
    "    prefix_table = [0] * len(pattern)\n",
    "    j = 0\n",
    "\n",
    "    for i in range(1, len(pattern)):\n",
    "        while j > 0 and pattern[i] != pattern[j]:\n",
    "            j = prefix_table[j-1]\n",
    "    \n",
    "        if pattern[i] == pattern[j]:\n",
    "            j += 1\n",
    "            prefix_table[i] = j\n",
    "    \n",
    "    return prefix_table\n",
    "\n",
    "def kmp_search(text, pattern):\n",
    "    prefix_table = build_prefix_table(pattern)\n",
    "\n",
    "    j = 0\n",
    "    cnt = 0\n",
    "    result = []\n",
    "\n",
    "    for i in range(len(text)):\n",
    "        while j > 0 and text[i] != pattern[j]:\n",
    "            j = prefix_table[j - 1]\n",
    "\n",
    "        if text[i] == pattern[j]:\n",
    "            if (j == len(pattern) - 1):\n",
    "                result.append(i - len(pattern) + 2)\n",
    "                cnt += 1\n",
    "                j = prefix_table[j]\n",
    "            else :\n",
    "                j += 1\n",
    "\n",
    "    return cnt, result"
   ]
  },
  {
   "cell_type": "markdown",
   "metadata": {},
   "source": [
    "## Trie 자료구조\n",
    "\n",
    "- 문자열을 빨리 찾는 자료구조\n",
    "- 노드를 만드는 연산\n",
    "- 문자열 넣는 연산\n",
    "- 문자열 찾는 연산\n",
    "- Trie를 그려주는 연산\n",
    "- 트라이 자료구조\n",
    "- 시간복잡도\n",
    "    - 트라이 생성: $O(M*L)$\n",
    "    - 문자열 탐색: $O(L)$\n",
    "        - $M$: 문자열들의 수\n",
    "        - $L$: 문자열 길이"
   ]
  },
  {
   "cell_type": "code",
   "execution_count": 1,
   "metadata": {},
   "outputs": [],
   "source": [
    "class Node:\n",
    "    def __init__(self, key, data=None):\n",
    "        self.key = key\n",
    "        self.data = data\n",
    "        self.children = dict()\n",
    "\n",
    "class Trie:\n",
    "    def __init__(self):\n",
    "        self.head = Node(None)\n",
    "    \n",
    "    def insert(self, string):\n",
    "        curr_node = self.head\n",
    "        \n",
    "        for word in string:\n",
    "            if word not in curr_node.children:\n",
    "                curr_node.children[word] = Node(word)\n",
    "            curr_node = curr_node.children[word]\n",
    "        \n",
    "        curr_node.data = string\n",
    "    \n",
    "    def search(self, string):\n",
    "        curr_node = self.head\n",
    "\n",
    "        for char in string:\n",
    "            if char in curr_node.children:\n",
    "                curr_node = curr_node.children[char]\n",
    "            else:\n",
    "                return False\n",
    "\n",
    "        if curr_node.data is not None:\n",
    "            return True\n",
    "    \n",
    "    def visualize(self, level, curr_node):\n",
    "        if not level:\n",
    "            curr_node = self.head\n",
    "        for child in sorted(curr_node.children.keys()):\n",
    "            print(\"--\" * level, end=\"\")\n",
    "            print(child)\n",
    "            self.visualize(level + 1, curr_node.children[child])"
   ]
  },
  {
   "cell_type": "markdown",
   "metadata": {},
   "source": [
    "# 파이썬 자료형 함수 모음"
   ]
  },
  {
   "cell_type": "code",
   "execution_count": 17,
   "metadata": {},
   "outputs": [
    {
     "name": "stdout",
     "output_type": "stream",
     "text": [
      "append\t\tclear\t\tcopy\t\tcount\t\textend\t\tindex\n",
      "insert\t\tpop\t\tremove\t\treverse\t\tsort\n"
     ]
    }
   ],
   "source": [
    "print(*list(dir(list))[37:43],sep='\\t\\t')\n",
    "print(*list(dir(list))[43:],sep='\\t\\t')"
   ]
  },
  {
   "cell_type": "code",
   "execution_count": 18,
   "metadata": {},
   "outputs": [
    {
     "name": "stdout",
     "output_type": "stream",
     "text": [
      "clear\t\tcopy\t\tfromkeys\t\tget\t\titems\t\tkeys\n",
      "pop\t\tpopitem\t\tsetdefault\t\tupdate\t\tvalues\n"
     ]
    }
   ],
   "source": [
    "print(*list(dir(dict))[35:41],sep='\\t\\t')\n",
    "print(*list(dir(dict))[41:],sep='\\t\\t')"
   ]
  },
  {
   "cell_type": "code",
   "execution_count": 19,
   "metadata": {},
   "outputs": [
    {
     "name": "stdout",
     "output_type": "stream",
     "text": [
      "add\t\tclear\t\tcopy\t\tdifference\t\tdifference_update\t\tdiscard\n",
      "intersection\tintersection_update\tisdisjoint\tissubset\tissuperset\tpop\n",
      "remove\t\tsymmetric_difference\t\tsymmetric_difference_update\t\tunion\t\tupdate\n"
     ]
    }
   ],
   "source": [
    "print(*list(dir(set))[40:46],sep='\\t\\t')\n",
    "print(*list(dir(set))[46:52],sep='\\t')\n",
    "print(*list(dir(set))[52:],sep='\\t\\t')"
   ]
  },
  {
   "cell_type": "code",
   "execution_count": null,
   "metadata": {},
   "outputs": [],
   "source": []
  }
 ],
 "metadata": {
  "kernelspec": {
   "display_name": "Python 3",
   "language": "python",
   "name": "python3"
  },
  "language_info": {
   "codemirror_mode": {
    "name": "ipython",
    "version": 3
   },
   "file_extension": ".py",
   "mimetype": "text/x-python",
   "name": "python",
   "nbconvert_exporter": "python",
   "pygments_lexer": "ipython3",
   "version": "3.9.6"
  }
 },
 "nbformat": 4,
 "nbformat_minor": 2
}
