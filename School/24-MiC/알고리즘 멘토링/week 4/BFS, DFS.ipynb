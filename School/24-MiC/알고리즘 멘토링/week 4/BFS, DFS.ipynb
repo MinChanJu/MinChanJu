{
 "cells": [
  {
   "cell_type": "code",
   "execution_count": 1,
   "metadata": {},
   "outputs": [],
   "source": [
    "graph = {1: [2, 3, 4], 2: [1, 5, 6], 3: [1], 4: [1, 7, 8], 5: [2, 9, 10], 6: [2], 7: [4, 11, 12], 8: [4], 9: [5], 10: [5], 11: [7], 12: [7]}"
   ]
  },
  {
   "cell_type": "code",
   "execution_count": 2,
   "metadata": {},
   "outputs": [],
   "source": [
    "from collections import deque\n",
    "\n",
    "def bfs(graph,start=1,target=0):\n",
    "    visit = [0 for _ in range(len(graph)+1)]\n",
    "    queue = deque()\n",
    "    queue.append(start)\n",
    "    visit[start] = 1\n",
    "    order = []\n",
    "    while queue:\n",
    "        node = queue.popleft()\n",
    "        order.append(node)\n",
    "        if node == target:\n",
    "            return visit[node]\n",
    "        for n_node in graph[node]:\n",
    "            if visit[n_node]==0:\n",
    "                queue.append(n_node)\n",
    "                visit[n_node] = visit[node] + 1\n",
    "    return visit, order"
   ]
  },
  {
   "cell_type": "code",
   "execution_count": 3,
   "metadata": {},
   "outputs": [
    {
     "data": {
      "text/plain": [
       "([0, 1, 2, 2, 2, 3, 3, 3, 3, 4, 4, 4, 4],\n",
       " [1, 2, 3, 4, 5, 6, 7, 8, 9, 10, 11, 12])"
      ]
     },
     "execution_count": 3,
     "metadata": {},
     "output_type": "execute_result"
    }
   ],
   "source": [
    "bfs(graph)"
   ]
  },
  {
   "cell_type": "code",
   "execution_count": 4,
   "metadata": {},
   "outputs": [],
   "source": [
    "def dfs(graph,start=1,target=0):\n",
    "    visit = [0 for _ in range(len(graph)+1)]\n",
    "    stack=[start]\n",
    "    visit[start] = 1\n",
    "    order = []\n",
    "    while stack:\n",
    "        node = stack.pop()\n",
    "        order.append(node)\n",
    "        if node == target:\n",
    "            return visit[node]\n",
    "        for n_node in graph[node]:\n",
    "            if visit[n_node]==0:\n",
    "                stack.append(n_node)\n",
    "                visit[n_node] = visit[node] + 1\n",
    "    return visit, order"
   ]
  },
  {
   "cell_type": "code",
   "execution_count": 5,
   "metadata": {},
   "outputs": [
    {
     "data": {
      "text/plain": [
       "([0, 1, 2, 2, 2, 3, 3, 3, 3, 4, 4, 4, 4],\n",
       " [1, 4, 8, 7, 12, 11, 3, 2, 6, 5, 10, 9])"
      ]
     },
     "execution_count": 5,
     "metadata": {},
     "output_type": "execute_result"
    }
   ],
   "source": [
    "dfs(graph)"
   ]
  },
  {
   "cell_type": "code",
   "execution_count": null,
   "metadata": {},
   "outputs": [],
   "source": []
  }
 ],
 "metadata": {
  "kernelspec": {
   "display_name": "base",
   "language": "python",
   "name": "python3"
  },
  "language_info": {
   "codemirror_mode": {
    "name": "ipython",
    "version": 3
   },
   "file_extension": ".py",
   "mimetype": "text/x-python",
   "name": "python",
   "nbconvert_exporter": "python",
   "pygments_lexer": "ipython3",
   "version": "3.8.8"
  }
 },
 "nbformat": 4,
 "nbformat_minor": 2
}
