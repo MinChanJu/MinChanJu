{
 "cells": [
  {
   "cell_type": "markdown",
   "id": "5362fbcd",
   "metadata": {},
   "source": [
    "# 산업 수학 머신러닝"
   ]
  },
  {
   "cell_type": "markdown",
   "id": "6cf73f97",
   "metadata": {},
   "source": [
    "## 차원 축소"
   ]
  },
  {
   "cell_type": "markdown",
   "id": "f10aa966",
   "metadata": {},
   "source": [
    "#### 202021224 주민찬"
   ]
  },
  {
   "cell_type": "markdown",
   "id": "eadd3ae5",
   "metadata": {},
   "source": [
    "#### iris데이터셋을 PCA 이용하여 2차원 데이터로 축소시키기"
   ]
  },
  {
   "cell_type": "code",
   "execution_count": 1,
   "id": "08288daa",
   "metadata": {},
   "outputs": [
    {
     "data": {
      "text/html": [
       "<div>\n",
       "<style scoped>\n",
       "    .dataframe tbody tr th:only-of-type {\n",
       "        vertical-align: middle;\n",
       "    }\n",
       "\n",
       "    .dataframe tbody tr th {\n",
       "        vertical-align: top;\n",
       "    }\n",
       "\n",
       "    .dataframe thead th {\n",
       "        text-align: right;\n",
       "    }\n",
       "</style>\n",
       "<table border=\"1\" class=\"dataframe\">\n",
       "  <thead>\n",
       "    <tr style=\"text-align: right;\">\n",
       "      <th></th>\n",
       "      <th>sepal_length</th>\n",
       "      <th>sepal_width</th>\n",
       "      <th>petal_length</th>\n",
       "      <th>petal_width</th>\n",
       "      <th>target</th>\n",
       "    </tr>\n",
       "  </thead>\n",
       "  <tbody>\n",
       "    <tr>\n",
       "      <th>0</th>\n",
       "      <td>5.1</td>\n",
       "      <td>3.5</td>\n",
       "      <td>1.4</td>\n",
       "      <td>0.2</td>\n",
       "      <td>0</td>\n",
       "    </tr>\n",
       "    <tr>\n",
       "      <th>1</th>\n",
       "      <td>4.9</td>\n",
       "      <td>3.0</td>\n",
       "      <td>1.4</td>\n",
       "      <td>0.2</td>\n",
       "      <td>0</td>\n",
       "    </tr>\n",
       "    <tr>\n",
       "      <th>2</th>\n",
       "      <td>4.7</td>\n",
       "      <td>3.2</td>\n",
       "      <td>1.3</td>\n",
       "      <td>0.2</td>\n",
       "      <td>0</td>\n",
       "    </tr>\n",
       "    <tr>\n",
       "      <th>3</th>\n",
       "      <td>4.6</td>\n",
       "      <td>3.1</td>\n",
       "      <td>1.5</td>\n",
       "      <td>0.2</td>\n",
       "      <td>0</td>\n",
       "    </tr>\n",
       "    <tr>\n",
       "      <th>4</th>\n",
       "      <td>5.0</td>\n",
       "      <td>3.6</td>\n",
       "      <td>1.4</td>\n",
       "      <td>0.2</td>\n",
       "      <td>0</td>\n",
       "    </tr>\n",
       "  </tbody>\n",
       "</table>\n",
       "</div>"
      ],
      "text/plain": [
       "   sepal_length  sepal_width  petal_length  petal_width  target\n",
       "0           5.1          3.5           1.4          0.2       0\n",
       "1           4.9          3.0           1.4          0.2       0\n",
       "2           4.7          3.2           1.3          0.2       0\n",
       "3           4.6          3.1           1.5          0.2       0\n",
       "4           5.0          3.6           1.4          0.2       0"
      ]
     },
     "execution_count": 1,
     "metadata": {},
     "output_type": "execute_result"
    }
   ],
   "source": [
    "from sklearn.datasets import load_iris\n",
    "import pandas as pd\n",
    "import matplotlib.pyplot as plt\n",
    "%matplotlib inline\n",
    "\n",
    "iris=load_iris()\n",
    "columns=['sepal_length','sepal_width','petal_length','petal_width']\n",
    "df_iris=pd.DataFrame(iris.data,columns=columns)\n",
    "df_iris['target']=iris.target\n",
    "df_iris.head()"
   ]
  },
  {
   "cell_type": "code",
   "execution_count": 2,
   "id": "b7b24da5",
   "metadata": {},
   "outputs": [
    {
     "data": {
      "image/png": "[encoded data removed]",
      "text/plain": [
       "<Figure size 640x480 with 1 Axes>"
      ]
     },
     "metadata": {},
     "output_type": "display_data"
    }
   ],
   "source": [
    "# setosa는 세모, versicolor는 네모, virginica는 동그라미\n",
    "markers=['^','s','o']\n",
    "\n",
    "for i, marker in enumerate(markers):\n",
    "    x_axis_data=df_iris[df_iris['target']==i]['sepal_length']\n",
    "    y_axis_data=df_iris[df_iris['target']==i]['sepal_width']\n",
    "    plt.scatter(x_axis_data,y_axis_data,marker=marker,label=iris.target_names[i])\n",
    "    \n",
    "plt.legend()\n",
    "plt.xlabel('sepal length')\n",
    "plt.ylabel('sepal width')\n",
    "plt.show()"
   ]
  },
  {
   "cell_type": "code",
   "execution_count": 3,
   "id": "25c64a81",
   "metadata": {},
   "outputs": [
    {
     "data": {
      "text/html": [
       "<div>\n",
       "<style scoped>\n",
       "    .dataframe tbody tr th:only-of-type {\n",
       "        vertical-align: middle;\n",
       "    }\n",
       "\n",
       "    .dataframe tbody tr th {\n",
       "        vertical-align: top;\n",
       "    }\n",
       "\n",
       "    .dataframe thead th {\n",
       "        text-align: right;\n",
       "    }\n",
       "</style>\n",
       "<table border=\"1\" class=\"dataframe\">\n",
       "  <thead>\n",
       "    <tr style=\"text-align: right;\">\n",
       "      <th></th>\n",
       "      <th>pca_component_1</th>\n",
       "      <th>pca_component_2</th>\n",
       "      <th>target</th>\n",
       "    </tr>\n",
       "  </thead>\n",
       "  <tbody>\n",
       "    <tr>\n",
       "      <th>0</th>\n",
       "      <td>-2.264703</td>\n",
       "      <td>0.480027</td>\n",
       "      <td>0</td>\n",
       "    </tr>\n",
       "    <tr>\n",
       "      <th>1</th>\n",
       "      <td>-2.080961</td>\n",
       "      <td>-0.674134</td>\n",
       "      <td>0</td>\n",
       "    </tr>\n",
       "    <tr>\n",
       "      <th>2</th>\n",
       "      <td>-2.364229</td>\n",
       "      <td>-0.341908</td>\n",
       "      <td>0</td>\n",
       "    </tr>\n",
       "    <tr>\n",
       "      <th>3</th>\n",
       "      <td>-2.299384</td>\n",
       "      <td>-0.597395</td>\n",
       "      <td>0</td>\n",
       "    </tr>\n",
       "    <tr>\n",
       "      <th>4</th>\n",
       "      <td>-2.389842</td>\n",
       "      <td>0.646835</td>\n",
       "      <td>0</td>\n",
       "    </tr>\n",
       "  </tbody>\n",
       "</table>\n",
       "</div>"
      ],
      "text/plain": [
       "   pca_component_1  pca_component_2  target\n",
       "0        -2.264703         0.480027       0\n",
       "1        -2.080961        -0.674134       0\n",
       "2        -2.364229        -0.341908       0\n",
       "3        -2.299384        -0.597395       0\n",
       "4        -2.389842         0.646835       0"
      ]
     },
     "execution_count": 3,
     "metadata": {},
     "output_type": "execute_result"
    }
   ],
   "source": [
    "from sklearn.preprocessing import StandardScaler\n",
    "from sklearn.decomposition import PCA\n",
    "\n",
    "scaler=StandardScaler()\n",
    "iris_scaled=scaler.fit_transform(df_iris.iloc[:,:-1])\n",
    "\n",
    "#2차원으로 차원 축소\n",
    "pca=PCA(n_components=2)\n",
    "pca.fit(iris_scaled)\n",
    "iris_pca=pca.transform(iris_scaled)\n",
    "\n",
    "pca_columns=['pca_component_1','pca_component_2']\n",
    "df_iris_pca=pd.DataFrame(iris_pca,columns=pca_columns)\n",
    "df_iris_pca['target']=iris.target\n",
    "df_iris_pca.head()"
   ]
  },
  {
   "cell_type": "code",
   "execution_count": 4,
   "id": "eca98c30",
   "metadata": {},
   "outputs": [
    {
     "data": {
      "image/png": "[encoded data removed]",
      "text/plain": [
       "<Figure size 640x480 with 1 Axes>"
      ]
     },
     "metadata": {},
     "output_type": "display_data"
    }
   ],
   "source": [
    "# setosa는 세모, versicolor는 네모, virginica는 동그라미\n",
    "markers=['^','s','o']\n",
    "\n",
    "for i, marker in enumerate(markers):\n",
    "    x_axis_data=df_iris_pca[df_iris_pca['target']==i]['pca_component_1']\n",
    "    y_axis_data=df_iris_pca[df_iris_pca['target']==i]['pca_component_2']\n",
    "    plt.scatter(x_axis_data,y_axis_data,marker=marker,label=iris.target_names[i])\n",
    "    \n",
    "plt.legend()\n",
    "plt.xlabel('pca_component_1')\n",
    "plt.ylabel('pca_component_2')\n",
    "plt.show()"
   ]
  },
  {
   "cell_type": "code",
   "execution_count": 5,
   "id": "d772b956",
   "metadata": {},
   "outputs": [
    {
     "name": "stdout",
     "output_type": "stream",
     "text": [
      "원본 데이터 교차 검증 평균 정확도:96.00%\n",
      "PCA 변환 후 교차 검증 평균 정확도:88.00%\n"
     ]
    }
   ],
   "source": [
    "from sklearn.ensemble import RandomForestClassifier\n",
    "from sklearn.model_selection import cross_val_score\n",
    "import numpy as np\n",
    "\n",
    "#원본 데이터\n",
    "rf_clf=RandomForestClassifier(random_state=156)\n",
    "scores=cross_val_score(rf_clf,iris.data,iris.target,scoring='accuracy',cv=3)\n",
    "print('원본 데이터 교차 검증 평균 정확도:{0:.2f}%'.format(np.mean(scores*100)))\n",
    "\n",
    "#PCA변환 후 데이터\n",
    "pca_X=df_iris_pca[['pca_component_1','pca_component_2']]\n",
    "scores_pca=cross_val_score(rf_clf,pca_X,iris.target,scoring='accuracy',cv=3)\n",
    "print('PCA 변환 후 교차 검증 평균 정확도:{0:.2f}%'.format(np.mean(scores_pca*100)))"
   ]
  },
  {
   "cell_type": "code",
   "execution_count": 6,
   "id": "1b040b01",
   "metadata": {},
   "outputs": [
    {
     "data": {
      "text/html": [
       "<div>\n",
       "<style scoped>\n",
       "    .dataframe tbody tr th:only-of-type {\n",
       "        vertical-align: middle;\n",
       "    }\n",
       "\n",
       "    .dataframe tbody tr th {\n",
       "        vertical-align: top;\n",
       "    }\n",
       "\n",
       "    .dataframe thead th {\n",
       "        text-align: right;\n",
       "    }\n",
       "</style>\n",
       "<table border=\"1\" class=\"dataframe\">\n",
       "  <thead>\n",
       "    <tr style=\"text-align: right;\">\n",
       "      <th></th>\n",
       "      <th>pca_component_1d</th>\n",
       "      <th>target</th>\n",
       "    </tr>\n",
       "  </thead>\n",
       "  <tbody>\n",
       "    <tr>\n",
       "      <th>0</th>\n",
       "      <td>-2.264703</td>\n",
       "      <td>0</td>\n",
       "    </tr>\n",
       "    <tr>\n",
       "      <th>1</th>\n",
       "      <td>-2.080961</td>\n",
       "      <td>0</td>\n",
       "    </tr>\n",
       "    <tr>\n",
       "      <th>2</th>\n",
       "      <td>-2.364229</td>\n",
       "      <td>0</td>\n",
       "    </tr>\n",
       "    <tr>\n",
       "      <th>3</th>\n",
       "      <td>-2.299384</td>\n",
       "      <td>0</td>\n",
       "    </tr>\n",
       "    <tr>\n",
       "      <th>4</th>\n",
       "      <td>-2.389842</td>\n",
       "      <td>0</td>\n",
       "    </tr>\n",
       "  </tbody>\n",
       "</table>\n",
       "</div>"
      ],
      "text/plain": [
       "   pca_component_1d  target\n",
       "0         -2.264703       0\n",
       "1         -2.080961       0\n",
       "2         -2.364229       0\n",
       "3         -2.299384       0\n",
       "4         -2.389842       0"
      ]
     },
     "execution_count": 6,
     "metadata": {},
     "output_type": "execute_result"
    }
   ],
   "source": [
    "from sklearn.preprocessing import StandardScaler\n",
    "from sklearn.decomposition import PCA\n",
    "\n",
    "scaler = StandardScaler()\n",
    "iris_scaled = scaler.fit_transform(df_iris.iloc[:, :-1])\n",
    "\n",
    "# 1차원으로 차원 축소\n",
    "pca1d = PCA(n_components=1)\n",
    "pca1d.fit(iris_scaled)\n",
    "iris_pca1d = pca1d.transform(iris_scaled)\n",
    "\n",
    "pca1d_columns = ['pca_component_1d']\n",
    "df_iris_pca1d = pd.DataFrame(iris_pca1d, columns=pca1d_columns)\n",
    "df_iris_pca1d['target'] = iris.target\n",
    "df_iris_pca1d.head()"
   ]
  },
  {
   "cell_type": "code",
   "execution_count": 7,
   "id": "4fbdf959",
   "metadata": {},
   "outputs": [
    {
     "data": {
      "image/png": "[encoded data removed]",
      "text/plain": [
       "<Figure size 640x480 with 1 Axes>"
      ]
     },
     "metadata": {},
     "output_type": "display_data"
    }
   ],
   "source": [
    "# setosa는 세모, versicolor는 네모, virginica는 동그라미\n",
    "markers = ['^', 's', 'o']\n",
    "\n",
    "for i, marker in enumerate(markers):\n",
    "    x_axis_data1d = df_iris_pca1d[df_iris_pca1d['target'] == i]['pca_component_1d']\n",
    "    plt.scatter(x_axis_data1d, [0] * len(x_axis_data1d), marker=marker, label=iris.target_names[i])\n",
    "\n",
    "plt.legend()\n",
    "plt.xlabel('pca_component_1d')\n",
    "plt.ylabel('Dummy Value (0)')\n",
    "plt.show()"
   ]
  },
  {
   "cell_type": "code",
   "execution_count": 8,
   "id": "b4760b81",
   "metadata": {},
   "outputs": [
    {
     "name": "stdout",
     "output_type": "stream",
     "text": [
      "원본 데이터 (4D) 교차 검증 평균 정확도: 96.00%\n",
      "PCA 변환 후 (2D) 교차 검증 평균 정확도: 88.00%\n",
      "PCA 변환 후 (1D) 교차 검증 평균 정확도: 91.33%\n"
     ]
    }
   ],
   "source": [
    "from sklearn.ensemble import RandomForestClassifier\n",
    "from sklearn.model_selection import cross_val_score\n",
    "import numpy as np\n",
    "\n",
    "# 원본 데이터\n",
    "rf_clf = RandomForestClassifier(random_state=156)\n",
    "scores = cross_val_score(rf_clf, iris.data, iris.target, scoring='accuracy', cv=3)\n",
    "print('원본 데이터 (4D) 교차 검증 평균 정확도: {0:.2f}%'.format(np.mean(scores * 100)))\n",
    "\n",
    "# PCA 변환 후 데이터 (2D)\n",
    "pca_X = df_iris_pca[['pca_component_1', 'pca_component_2']]\n",
    "scores_pca = cross_val_score(rf_clf, pca_X, iris.target, scoring='accuracy', cv=3)\n",
    "print('PCA 변환 후 (2D) 교차 검증 평균 정확도: {0:.2f}%'.format(np.mean(scores_pca * 100)))\n",
    "\n",
    "# PCA 변환 후 데이터 (1D)\n",
    "pca_X_1d = df_iris_pca1d[['pca_component_1d']]\n",
    "scores_pca_1d = cross_val_score(rf_clf, pca_X_1d, iris.target, scoring='accuracy', cv=3)\n",
    "print('PCA 변환 후 (1D) 교차 검증 평균 정확도: {0:.2f}%'.format(np.mean(scores_pca_1d * 100)))\n"
   ]
  },
  {
   "cell_type": "code",
   "execution_count": null,
   "id": "dd6bac82",
   "metadata": {},
   "outputs": [],
   "source": []
  }
 ],
 "metadata": {
  "kernelspec": {
   "display_name": "Python 3 (ipykernel)",
   "language": "python",
   "name": "python3"
  },
  "language_info": {
   "codemirror_mode": {
    "name": "ipython",
    "version": 3
   },
   "file_extension": ".py",
   "mimetype": "text/x-python",
   "name": "python",
   "nbconvert_exporter": "python",
   "pygments_lexer": "ipython3",
   "version": "3.11.4"
  }
 },
 "nbformat": 4,
 "nbformat_minor": 5
}
