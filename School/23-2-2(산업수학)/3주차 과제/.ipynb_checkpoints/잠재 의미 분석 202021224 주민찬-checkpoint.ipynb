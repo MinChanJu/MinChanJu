{
 "cells": [
  {
   "cell_type": "markdown",
   "id": "4bd16ef1",
   "metadata": {},
   "source": [
    "# 단어 임베딩(Word Embeddiing)\n",
    "## 잠재 의미분석(Latent Semantic Analysis)\n",
    "### 202021224 주민찬"
   ]
  },
  {
   "cell_type": "markdown",
   "id": "3219039a",
   "metadata": {},
   "source": [
    "### 1) Full SVD"
   ]
  },
  {
   "cell_type": "code",
   "execution_count": 66,
   "id": "0734f46a",
   "metadata": {},
   "outputs": [],
   "source": [
    "import numpy as np"
   ]
  },
  {
   "cell_type": "code",
   "execution_count": 67,
   "id": "96fac3fb",
   "metadata": {},
   "outputs": [
    {
     "name": "stdout",
     "output_type": "stream",
     "text": [
      "DTM의 크기(shape) : (8, 4)\n"
     ]
    }
   ],
   "source": [
    "# 4개의 문서와 8개의 단어\n",
    "A = np.array([[0,0,0,1],[0,0,1,0],[0,0,1,0],[1,1,0,0],[0,1,2,0],[1,0,0,0],[1,1,0,0],[0,0,0,1]])\n",
    "print('DTM의 크기(shape) :', np.shape(A))"
   ]
  },
  {
   "cell_type": "code",
   "execution_count": 68,
   "id": "19944fa1",
   "metadata": {},
   "outputs": [
    {
     "name": "stdout",
     "output_type": "stream",
     "text": [
      "행렬 U :\n",
      "[[-0.    0.    0.71 -0.   -0.   -0.2  -0.2  -0.64]\n",
      " [-0.31 -0.24 -0.    0.35 -0.78  0.32 -0.1  -0.07]\n",
      " [-0.31 -0.24  0.    0.35 -0.01 -0.79  0.25  0.17]\n",
      " [-0.28  0.58  0.   -0.16 -0.2  -0.26 -0.61  0.28]\n",
      " [-0.8  -0.26 -0.   -0.25  0.4   0.24 -0.07 -0.05]\n",
      " [-0.09  0.37  0.    0.8   0.4   0.24 -0.07 -0.05]\n",
      " [-0.28  0.58  0.   -0.16 -0.2   0.03  0.68 -0.22]\n",
      " [-0.   -0.    0.71  0.    0.    0.2   0.2   0.64]]\n",
      "행렬 U의 크기(shape) : (8, 8)\n"
     ]
    }
   ],
   "source": [
    "U, s, VT = np.linalg.svd(A, full_matrices = True)\n",
    "print('행렬 U :')\n",
    "print(U.round(2))\n",
    "print('행렬 U의 크기(shape) :',np.shape(U))"
   ]
  },
  {
   "cell_type": "code",
   "execution_count": 69,
   "id": "182ee480",
   "metadata": {},
   "outputs": [
    {
     "name": "stdout",
     "output_type": "stream",
     "text": [
      "특이값 벡터 :\n",
      "[2.69 2.05 1.41 0.77]\n",
      "특이값 벡터의 크기(shape) : (4,)\n"
     ]
    }
   ],
   "source": [
    "print('특이값 벡터 :')\n",
    "print(s.round(2))\n",
    "print('특이값 벡터의 크기(shape) :',np.shape(s))"
   ]
  },
  {
   "cell_type": "code",
   "execution_count": 70,
   "id": "deb169da",
   "metadata": {},
   "outputs": [
    {
     "name": "stdout",
     "output_type": "stream",
     "text": [
      "대각 행렬 S :\n",
      "[[2.69 0.   0.   0.  ]\n",
      " [0.   2.05 0.   0.  ]\n",
      " [0.   0.   1.41 0.  ]\n",
      " [0.   0.   0.   0.77]\n",
      " [0.   0.   0.   0.  ]\n",
      " [0.   0.   0.   0.  ]\n",
      " [0.   0.   0.   0.  ]\n",
      " [0.   0.   0.   0.  ]]\n",
      "대각 행렬의 크기(shape) :\n",
      "(8, 4)\n"
     ]
    }
   ],
   "source": [
    "S = np.zeros((8, 4))\n",
    "\n",
    "# 특이값을 대각행렬에 삽입\n",
    "S[:4, :4] = np.diag(s)\n",
    "\n",
    "print('대각 행렬 S :')\n",
    "print(S.round(2))\n",
    "\n",
    "print('대각 행렬의 크기(shape) :')\n",
    "print(np.shape(S))"
   ]
  },
  {
   "cell_type": "code",
   "execution_count": 71,
   "id": "2f09be88",
   "metadata": {},
   "outputs": [
    {
     "name": "stdout",
     "output_type": "stream",
     "text": [
      "직교행렬 VT :\n",
      "[[-0.24 -0.51 -0.83 -0.  ]\n",
      " [ 0.75  0.44 -0.49 -0.  ]\n",
      " [ 0.    0.   -0.    1.  ]\n",
      " [ 0.62 -0.74  0.27  0.  ]]\n",
      "직교 행렬 VT의 크기(shape) :\n",
      "(4, 4)\n"
     ]
    }
   ],
   "source": [
    "print('직교행렬 VT :')\n",
    "print(VT.round(2))\n",
    "\n",
    "print('직교 행렬 VT의 크기(shape) :')\n",
    "print(np.shape(VT))"
   ]
  },
  {
   "cell_type": "code",
   "execution_count": 72,
   "id": "63fa1953",
   "metadata": {},
   "outputs": [
    {
     "data": {
      "text/plain": [
       "True"
      ]
     },
     "execution_count": 72,
     "metadata": {},
     "output_type": "execute_result"
    }
   ],
   "source": [
    "np.allclose(A, np.dot(np.dot(U,S), VT).round(2))"
   ]
  },
  {
   "cell_type": "markdown",
   "id": "190f8dc4",
   "metadata": {},
   "source": [
    "### 2) Truncated SVD"
   ]
  },
  {
   "cell_type": "code",
   "execution_count": 73,
   "id": "185a1d55",
   "metadata": {},
   "outputs": [
    {
     "name": "stdout",
     "output_type": "stream",
     "text": [
      "대각 행렬 S :\n",
      "[[2.69 0.  ]\n",
      " [0.   2.05]]\n"
     ]
    }
   ],
   "source": [
    "# 특이값 상위 2개만 보존\n",
    "S = S[:2,:2]\n",
    "\n",
    "print('대각 행렬 S :')\n",
    "print(S.round(2))"
   ]
  },
  {
   "cell_type": "code",
   "execution_count": 74,
   "id": "9c3ebad8",
   "metadata": {},
   "outputs": [
    {
     "name": "stdout",
     "output_type": "stream",
     "text": [
      "행렬 U :\n",
      "[[-0.    0.  ]\n",
      " [-0.31 -0.24]\n",
      " [-0.31 -0.24]\n",
      " [-0.28  0.58]\n",
      " [-0.8  -0.26]\n",
      " [-0.09  0.37]\n",
      " [-0.28  0.58]\n",
      " [-0.   -0.  ]]\n"
     ]
    }
   ],
   "source": [
    "U = U[:,:2]\n",
    "print('행렬 U :')\n",
    "print(U.round(2))"
   ]
  },
  {
   "cell_type": "code",
   "execution_count": 75,
   "id": "7b39841e",
   "metadata": {},
   "outputs": [
    {
     "name": "stdout",
     "output_type": "stream",
     "text": [
      "직교행렬 VT :\n",
      "[[-0.24 -0.51 -0.83 -0.  ]\n",
      " [ 0.75  0.44 -0.49 -0.  ]]\n"
     ]
    }
   ],
   "source": [
    "VT = VT[:2,:]\n",
    "print('직교행렬 VT :')\n",
    "print(VT.round(2))"
   ]
  },
  {
   "cell_type": "code",
   "execution_count": 76,
   "id": "cee83f54",
   "metadata": {},
   "outputs": [
    {
     "name": "stdout",
     "output_type": "stream",
     "text": [
      "[[0 0 0 1]\n",
      " [0 0 1 0]\n",
      " [0 0 1 0]\n",
      " [1 1 0 0]\n",
      " [0 1 2 0]\n",
      " [1 0 0 0]\n",
      " [1 1 0 0]\n",
      " [0 0 0 1]]\n",
      "[[ 0.    0.    0.    0.  ]\n",
      " [-0.17  0.2   0.93  0.  ]\n",
      " [-0.17  0.2   0.93  0.  ]\n",
      " [ 1.08  0.91  0.03  0.  ]\n",
      " [ 0.12  0.86  2.05  0.  ]\n",
      " [ 0.62  0.45 -0.17 -0.  ]\n",
      " [ 1.08  0.91  0.03  0.  ]\n",
      " [-0.    0.    0.    0.  ]]\n"
     ]
    }
   ],
   "source": [
    "A_prime = np.dot(np.dot(U,S), VT)\n",
    "print(A)\n",
    "print(A_prime.round(2))"
   ]
  },
  {
   "cell_type": "markdown",
   "id": "462dfee2",
   "metadata": {},
   "source": [
    "### 3) A행렬과 A_prime행렬의 유사도(Cosine Similarity)"
   ]
  },
  {
   "cell_type": "code",
   "execution_count": 77,
   "id": "af7acb33",
   "metadata": {},
   "outputs": [
    {
     "name": "stdout",
     "output_type": "stream",
     "text": [
      "코사인 유사도: [[90.27]]\n"
     ]
    }
   ],
   "source": [
    "import numpy as np\n",
    "from numpy.linalg import norm\n",
    "\n",
    "# 각 행렬을 벡터로 펼칩니다.\n",
    "vector1 = A.reshape(1, -1)\n",
    "vector2 = A_prime.round(2).reshape(1, -1)\n",
    "\n",
    "\n",
    "# 두 벡터의 내적(Dot Product)을 계산합니다.\n",
    "dot_product = np.dot(vector1, vector2.T)\n",
    "\n",
    "# 각 벡터의 크기(norm)을 계산합니다.\n",
    "norm_matrix1 = norm(vector1)\n",
    "norm_matrix2 = norm(vector2)\n",
    "\n",
    "# 코사인 유사도를 계산합니다.\n",
    "cosine_similarity = (dot_product / (norm_matrix1 * norm_matrix2)*100).round(2)\n",
    "\n",
    "# 코사인 유사도를 출력합니다.\n",
    "print(\"코사인 유사도:\", cosine_similarity)"
   ]
  },
  {
   "cell_type": "code",
   "execution_count": null,
   "id": "eb86ce81",
   "metadata": {},
   "outputs": [],
   "source": []
  }
 ],
 "metadata": {
  "kernelspec": {
   "display_name": "Python 3 (ipykernel)",
   "language": "python",
   "name": "python3"
  },
  "language_info": {
   "codemirror_mode": {
    "name": "ipython",
    "version": 3
   },
   "file_extension": ".py",
   "mimetype": "text/x-python",
   "name": "python",
   "nbconvert_exporter": "python",
   "pygments_lexer": "ipython3",
   "version": "3.11.4"
  }
 },
 "nbformat": 4,
 "nbformat_minor": 5
}
